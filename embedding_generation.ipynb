{
  "nbformat": 4,
  "nbformat_minor": 0,
  "metadata": {
    "colab": {
      "provenance": [],
      "gpuType": "T4"
    },
    "kernelspec": {
      "name": "python3",
      "display_name": "Python 3"
    },
    "language_info": {
      "name": "python"
    },
    "accelerator": "GPU",
    "widgets": {
      "application/vnd.jupyter.widget-state+json": {
        "b205c9c2563342f1ab60cf9e2e119598": {
          "model_module": "@jupyter-widgets/controls",
          "model_name": "HBoxModel",
          "model_module_version": "1.5.0",
          "state": {
            "_dom_classes": [],
            "_model_module": "@jupyter-widgets/controls",
            "_model_module_version": "1.5.0",
            "_model_name": "HBoxModel",
            "_view_count": null,
            "_view_module": "@jupyter-widgets/controls",
            "_view_module_version": "1.5.0",
            "_view_name": "HBoxView",
            "box_style": "",
            "children": [
              "IPY_MODEL_c7e72f05bb8f41d1bac0155bf0718510",
              "IPY_MODEL_a982f6df0e024d7f8cd4b3fb67e4c271",
              "IPY_MODEL_042659be6cf442de9052241d09e1142a"
            ],
            "layout": "IPY_MODEL_3ccd0a5df5944781a54c8cb5c35b3fa1"
          }
        },
        "c7e72f05bb8f41d1bac0155bf0718510": {
          "model_module": "@jupyter-widgets/controls",
          "model_name": "HTMLModel",
          "model_module_version": "1.5.0",
          "state": {
            "_dom_classes": [],
            "_model_module": "@jupyter-widgets/controls",
            "_model_module_version": "1.5.0",
            "_model_name": "HTMLModel",
            "_view_count": null,
            "_view_module": "@jupyter-widgets/controls",
            "_view_module_version": "1.5.0",
            "_view_name": "HTMLView",
            "description": "",
            "description_tooltip": null,
            "layout": "IPY_MODEL_ddc2729cdcd445c782274c553e26990f",
            "placeholder": "​",
            "style": "IPY_MODEL_de513878a0dc404e9977cb627fd7591f",
            "value": "modules.json: 100%"
          }
        },
        "a982f6df0e024d7f8cd4b3fb67e4c271": {
          "model_module": "@jupyter-widgets/controls",
          "model_name": "FloatProgressModel",
          "model_module_version": "1.5.0",
          "state": {
            "_dom_classes": [],
            "_model_module": "@jupyter-widgets/controls",
            "_model_module_version": "1.5.0",
            "_model_name": "FloatProgressModel",
            "_view_count": null,
            "_view_module": "@jupyter-widgets/controls",
            "_view_module_version": "1.5.0",
            "_view_name": "ProgressView",
            "bar_style": "success",
            "description": "",
            "description_tooltip": null,
            "layout": "IPY_MODEL_e1698381f4ce4b3ba873674fe5911479",
            "max": 349,
            "min": 0,
            "orientation": "horizontal",
            "style": "IPY_MODEL_2ec51ca635094bb5bb031ea567616810",
            "value": 349
          }
        },
        "042659be6cf442de9052241d09e1142a": {
          "model_module": "@jupyter-widgets/controls",
          "model_name": "HTMLModel",
          "model_module_version": "1.5.0",
          "state": {
            "_dom_classes": [],
            "_model_module": "@jupyter-widgets/controls",
            "_model_module_version": "1.5.0",
            "_model_name": "HTMLModel",
            "_view_count": null,
            "_view_module": "@jupyter-widgets/controls",
            "_view_module_version": "1.5.0",
            "_view_name": "HTMLView",
            "description": "",
            "description_tooltip": null,
            "layout": "IPY_MODEL_13e3476edebd4d2d84857c4f10b132fd",
            "placeholder": "​",
            "style": "IPY_MODEL_4c74b8dba96e47b78b0129dcd6fff608",
            "value": " 349/349 [00:00&lt;00:00, 8.83kB/s]"
          }
        },
        "3ccd0a5df5944781a54c8cb5c35b3fa1": {
          "model_module": "@jupyter-widgets/base",
          "model_name": "LayoutModel",
          "model_module_version": "1.2.0",
          "state": {
            "_model_module": "@jupyter-widgets/base",
            "_model_module_version": "1.2.0",
            "_model_name": "LayoutModel",
            "_view_count": null,
            "_view_module": "@jupyter-widgets/base",
            "_view_module_version": "1.2.0",
            "_view_name": "LayoutView",
            "align_content": null,
            "align_items": null,
            "align_self": null,
            "border": null,
            "bottom": null,
            "display": null,
            "flex": null,
            "flex_flow": null,
            "grid_area": null,
            "grid_auto_columns": null,
            "grid_auto_flow": null,
            "grid_auto_rows": null,
            "grid_column": null,
            "grid_gap": null,
            "grid_row": null,
            "grid_template_areas": null,
            "grid_template_columns": null,
            "grid_template_rows": null,
            "height": null,
            "justify_content": null,
            "justify_items": null,
            "left": null,
            "margin": null,
            "max_height": null,
            "max_width": null,
            "min_height": null,
            "min_width": null,
            "object_fit": null,
            "object_position": null,
            "order": null,
            "overflow": null,
            "overflow_x": null,
            "overflow_y": null,
            "padding": null,
            "right": null,
            "top": null,
            "visibility": null,
            "width": null
          }
        },
        "ddc2729cdcd445c782274c553e26990f": {
          "model_module": "@jupyter-widgets/base",
          "model_name": "LayoutModel",
          "model_module_version": "1.2.0",
          "state": {
            "_model_module": "@jupyter-widgets/base",
            "_model_module_version": "1.2.0",
            "_model_name": "LayoutModel",
            "_view_count": null,
            "_view_module": "@jupyter-widgets/base",
            "_view_module_version": "1.2.0",
            "_view_name": "LayoutView",
            "align_content": null,
            "align_items": null,
            "align_self": null,
            "border": null,
            "bottom": null,
            "display": null,
            "flex": null,
            "flex_flow": null,
            "grid_area": null,
            "grid_auto_columns": null,
            "grid_auto_flow": null,
            "grid_auto_rows": null,
            "grid_column": null,
            "grid_gap": null,
            "grid_row": null,
            "grid_template_areas": null,
            "grid_template_columns": null,
            "grid_template_rows": null,
            "height": null,
            "justify_content": null,
            "justify_items": null,
            "left": null,
            "margin": null,
            "max_height": null,
            "max_width": null,
            "min_height": null,
            "min_width": null,
            "object_fit": null,
            "object_position": null,
            "order": null,
            "overflow": null,
            "overflow_x": null,
            "overflow_y": null,
            "padding": null,
            "right": null,
            "top": null,
            "visibility": null,
            "width": null
          }
        },
        "de513878a0dc404e9977cb627fd7591f": {
          "model_module": "@jupyter-widgets/controls",
          "model_name": "DescriptionStyleModel",
          "model_module_version": "1.5.0",
          "state": {
            "_model_module": "@jupyter-widgets/controls",
            "_model_module_version": "1.5.0",
            "_model_name": "DescriptionStyleModel",
            "_view_count": null,
            "_view_module": "@jupyter-widgets/base",
            "_view_module_version": "1.2.0",
            "_view_name": "StyleView",
            "description_width": ""
          }
        },
        "e1698381f4ce4b3ba873674fe5911479": {
          "model_module": "@jupyter-widgets/base",
          "model_name": "LayoutModel",
          "model_module_version": "1.2.0",
          "state": {
            "_model_module": "@jupyter-widgets/base",
            "_model_module_version": "1.2.0",
            "_model_name": "LayoutModel",
            "_view_count": null,
            "_view_module": "@jupyter-widgets/base",
            "_view_module_version": "1.2.0",
            "_view_name": "LayoutView",
            "align_content": null,
            "align_items": null,
            "align_self": null,
            "border": null,
            "bottom": null,
            "display": null,
            "flex": null,
            "flex_flow": null,
            "grid_area": null,
            "grid_auto_columns": null,
            "grid_auto_flow": null,
            "grid_auto_rows": null,
            "grid_column": null,
            "grid_gap": null,
            "grid_row": null,
            "grid_template_areas": null,
            "grid_template_columns": null,
            "grid_template_rows": null,
            "height": null,
            "justify_content": null,
            "justify_items": null,
            "left": null,
            "margin": null,
            "max_height": null,
            "max_width": null,
            "min_height": null,
            "min_width": null,
            "object_fit": null,
            "object_position": null,
            "order": null,
            "overflow": null,
            "overflow_x": null,
            "overflow_y": null,
            "padding": null,
            "right": null,
            "top": null,
            "visibility": null,
            "width": null
          }
        },
        "2ec51ca635094bb5bb031ea567616810": {
          "model_module": "@jupyter-widgets/controls",
          "model_name": "ProgressStyleModel",
          "model_module_version": "1.5.0",
          "state": {
            "_model_module": "@jupyter-widgets/controls",
            "_model_module_version": "1.5.0",
            "_model_name": "ProgressStyleModel",
            "_view_count": null,
            "_view_module": "@jupyter-widgets/base",
            "_view_module_version": "1.2.0",
            "_view_name": "StyleView",
            "bar_color": null,
            "description_width": ""
          }
        },
        "13e3476edebd4d2d84857c4f10b132fd": {
          "model_module": "@jupyter-widgets/base",
          "model_name": "LayoutModel",
          "model_module_version": "1.2.0",
          "state": {
            "_model_module": "@jupyter-widgets/base",
            "_model_module_version": "1.2.0",
            "_model_name": "LayoutModel",
            "_view_count": null,
            "_view_module": "@jupyter-widgets/base",
            "_view_module_version": "1.2.0",
            "_view_name": "LayoutView",
            "align_content": null,
            "align_items": null,
            "align_self": null,
            "border": null,
            "bottom": null,
            "display": null,
            "flex": null,
            "flex_flow": null,
            "grid_area": null,
            "grid_auto_columns": null,
            "grid_auto_flow": null,
            "grid_auto_rows": null,
            "grid_column": null,
            "grid_gap": null,
            "grid_row": null,
            "grid_template_areas": null,
            "grid_template_columns": null,
            "grid_template_rows": null,
            "height": null,
            "justify_content": null,
            "justify_items": null,
            "left": null,
            "margin": null,
            "max_height": null,
            "max_width": null,
            "min_height": null,
            "min_width": null,
            "object_fit": null,
            "object_position": null,
            "order": null,
            "overflow": null,
            "overflow_x": null,
            "overflow_y": null,
            "padding": null,
            "right": null,
            "top": null,
            "visibility": null,
            "width": null
          }
        },
        "4c74b8dba96e47b78b0129dcd6fff608": {
          "model_module": "@jupyter-widgets/controls",
          "model_name": "DescriptionStyleModel",
          "model_module_version": "1.5.0",
          "state": {
            "_model_module": "@jupyter-widgets/controls",
            "_model_module_version": "1.5.0",
            "_model_name": "DescriptionStyleModel",
            "_view_count": null,
            "_view_module": "@jupyter-widgets/base",
            "_view_module_version": "1.2.0",
            "_view_name": "StyleView",
            "description_width": ""
          }
        },
        "2481b9d4b9ec4cadb34afc12919a1cb2": {
          "model_module": "@jupyter-widgets/controls",
          "model_name": "HBoxModel",
          "model_module_version": "1.5.0",
          "state": {
            "_dom_classes": [],
            "_model_module": "@jupyter-widgets/controls",
            "_model_module_version": "1.5.0",
            "_model_name": "HBoxModel",
            "_view_count": null,
            "_view_module": "@jupyter-widgets/controls",
            "_view_module_version": "1.5.0",
            "_view_name": "HBoxView",
            "box_style": "",
            "children": [
              "IPY_MODEL_891d8eaf739b45dbbc14100970f3470e",
              "IPY_MODEL_a41fe72421574652b3556c3dead66db0",
              "IPY_MODEL_21190bd424714275bfb720f00093e4c0"
            ],
            "layout": "IPY_MODEL_dad31cc0780a4d0891347abfb5a0dd93"
          }
        },
        "891d8eaf739b45dbbc14100970f3470e": {
          "model_module": "@jupyter-widgets/controls",
          "model_name": "HTMLModel",
          "model_module_version": "1.5.0",
          "state": {
            "_dom_classes": [],
            "_model_module": "@jupyter-widgets/controls",
            "_model_module_version": "1.5.0",
            "_model_name": "HTMLModel",
            "_view_count": null,
            "_view_module": "@jupyter-widgets/controls",
            "_view_module_version": "1.5.0",
            "_view_name": "HTMLView",
            "description": "",
            "description_tooltip": null,
            "layout": "IPY_MODEL_1932fc874b1a47cfb1f803ffd04fff43",
            "placeholder": "​",
            "style": "IPY_MODEL_b4cfde24d5d9458490b116eb53495526",
            "value": "config_sentence_transformers.json: 100%"
          }
        },
        "a41fe72421574652b3556c3dead66db0": {
          "model_module": "@jupyter-widgets/controls",
          "model_name": "FloatProgressModel",
          "model_module_version": "1.5.0",
          "state": {
            "_dom_classes": [],
            "_model_module": "@jupyter-widgets/controls",
            "_model_module_version": "1.5.0",
            "_model_name": "FloatProgressModel",
            "_view_count": null,
            "_view_module": "@jupyter-widgets/controls",
            "_view_module_version": "1.5.0",
            "_view_name": "ProgressView",
            "bar_style": "success",
            "description": "",
            "description_tooltip": null,
            "layout": "IPY_MODEL_69a476d428964a4d9a2aa86b30604cb4",
            "max": 128,
            "min": 0,
            "orientation": "horizontal",
            "style": "IPY_MODEL_eb0ba72cd27447b4810b0323a6d5cbbf",
            "value": 128
          }
        },
        "21190bd424714275bfb720f00093e4c0": {
          "model_module": "@jupyter-widgets/controls",
          "model_name": "HTMLModel",
          "model_module_version": "1.5.0",
          "state": {
            "_dom_classes": [],
            "_model_module": "@jupyter-widgets/controls",
            "_model_module_version": "1.5.0",
            "_model_name": "HTMLModel",
            "_view_count": null,
            "_view_module": "@jupyter-widgets/controls",
            "_view_module_version": "1.5.0",
            "_view_name": "HTMLView",
            "description": "",
            "description_tooltip": null,
            "layout": "IPY_MODEL_fbf98c82cc444897bafe17ab04ca3cc9",
            "placeholder": "​",
            "style": "IPY_MODEL_5d63f445ae424acfa9052b8f5e433701",
            "value": " 128/128 [00:00&lt;00:00, 1.91kB/s]"
          }
        },
        "dad31cc0780a4d0891347abfb5a0dd93": {
          "model_module": "@jupyter-widgets/base",
          "model_name": "LayoutModel",
          "model_module_version": "1.2.0",
          "state": {
            "_model_module": "@jupyter-widgets/base",
            "_model_module_version": "1.2.0",
            "_model_name": "LayoutModel",
            "_view_count": null,
            "_view_module": "@jupyter-widgets/base",
            "_view_module_version": "1.2.0",
            "_view_name": "LayoutView",
            "align_content": null,
            "align_items": null,
            "align_self": null,
            "border": null,
            "bottom": null,
            "display": null,
            "flex": null,
            "flex_flow": null,
            "grid_area": null,
            "grid_auto_columns": null,
            "grid_auto_flow": null,
            "grid_auto_rows": null,
            "grid_column": null,
            "grid_gap": null,
            "grid_row": null,
            "grid_template_areas": null,
            "grid_template_columns": null,
            "grid_template_rows": null,
            "height": null,
            "justify_content": null,
            "justify_items": null,
            "left": null,
            "margin": null,
            "max_height": null,
            "max_width": null,
            "min_height": null,
            "min_width": null,
            "object_fit": null,
            "object_position": null,
            "order": null,
            "overflow": null,
            "overflow_x": null,
            "overflow_y": null,
            "padding": null,
            "right": null,
            "top": null,
            "visibility": null,
            "width": null
          }
        },
        "1932fc874b1a47cfb1f803ffd04fff43": {
          "model_module": "@jupyter-widgets/base",
          "model_name": "LayoutModel",
          "model_module_version": "1.2.0",
          "state": {
            "_model_module": "@jupyter-widgets/base",
            "_model_module_version": "1.2.0",
            "_model_name": "LayoutModel",
            "_view_count": null,
            "_view_module": "@jupyter-widgets/base",
            "_view_module_version": "1.2.0",
            "_view_name": "LayoutView",
            "align_content": null,
            "align_items": null,
            "align_self": null,
            "border": null,
            "bottom": null,
            "display": null,
            "flex": null,
            "flex_flow": null,
            "grid_area": null,
            "grid_auto_columns": null,
            "grid_auto_flow": null,
            "grid_auto_rows": null,
            "grid_column": null,
            "grid_gap": null,
            "grid_row": null,
            "grid_template_areas": null,
            "grid_template_columns": null,
            "grid_template_rows": null,
            "height": null,
            "justify_content": null,
            "justify_items": null,
            "left": null,
            "margin": null,
            "max_height": null,
            "max_width": null,
            "min_height": null,
            "min_width": null,
            "object_fit": null,
            "object_position": null,
            "order": null,
            "overflow": null,
            "overflow_x": null,
            "overflow_y": null,
            "padding": null,
            "right": null,
            "top": null,
            "visibility": null,
            "width": null
          }
        },
        "b4cfde24d5d9458490b116eb53495526": {
          "model_module": "@jupyter-widgets/controls",
          "model_name": "DescriptionStyleModel",
          "model_module_version": "1.5.0",
          "state": {
            "_model_module": "@jupyter-widgets/controls",
            "_model_module_version": "1.5.0",
            "_model_name": "DescriptionStyleModel",
            "_view_count": null,
            "_view_module": "@jupyter-widgets/base",
            "_view_module_version": "1.2.0",
            "_view_name": "StyleView",
            "description_width": ""
          }
        },
        "69a476d428964a4d9a2aa86b30604cb4": {
          "model_module": "@jupyter-widgets/base",
          "model_name": "LayoutModel",
          "model_module_version": "1.2.0",
          "state": {
            "_model_module": "@jupyter-widgets/base",
            "_model_module_version": "1.2.0",
            "_model_name": "LayoutModel",
            "_view_count": null,
            "_view_module": "@jupyter-widgets/base",
            "_view_module_version": "1.2.0",
            "_view_name": "LayoutView",
            "align_content": null,
            "align_items": null,
            "align_self": null,
            "border": null,
            "bottom": null,
            "display": null,
            "flex": null,
            "flex_flow": null,
            "grid_area": null,
            "grid_auto_columns": null,
            "grid_auto_flow": null,
            "grid_auto_rows": null,
            "grid_column": null,
            "grid_gap": null,
            "grid_row": null,
            "grid_template_areas": null,
            "grid_template_columns": null,
            "grid_template_rows": null,
            "height": null,
            "justify_content": null,
            "justify_items": null,
            "left": null,
            "margin": null,
            "max_height": null,
            "max_width": null,
            "min_height": null,
            "min_width": null,
            "object_fit": null,
            "object_position": null,
            "order": null,
            "overflow": null,
            "overflow_x": null,
            "overflow_y": null,
            "padding": null,
            "right": null,
            "top": null,
            "visibility": null,
            "width": null
          }
        },
        "eb0ba72cd27447b4810b0323a6d5cbbf": {
          "model_module": "@jupyter-widgets/controls",
          "model_name": "ProgressStyleModel",
          "model_module_version": "1.5.0",
          "state": {
            "_model_module": "@jupyter-widgets/controls",
            "_model_module_version": "1.5.0",
            "_model_name": "ProgressStyleModel",
            "_view_count": null,
            "_view_module": "@jupyter-widgets/base",
            "_view_module_version": "1.2.0",
            "_view_name": "StyleView",
            "bar_color": null,
            "description_width": ""
          }
        },
        "fbf98c82cc444897bafe17ab04ca3cc9": {
          "model_module": "@jupyter-widgets/base",
          "model_name": "LayoutModel",
          "model_module_version": "1.2.0",
          "state": {
            "_model_module": "@jupyter-widgets/base",
            "_model_module_version": "1.2.0",
            "_model_name": "LayoutModel",
            "_view_count": null,
            "_view_module": "@jupyter-widgets/base",
            "_view_module_version": "1.2.0",
            "_view_name": "LayoutView",
            "align_content": null,
            "align_items": null,
            "align_self": null,
            "border": null,
            "bottom": null,
            "display": null,
            "flex": null,
            "flex_flow": null,
            "grid_area": null,
            "grid_auto_columns": null,
            "grid_auto_flow": null,
            "grid_auto_rows": null,
            "grid_column": null,
            "grid_gap": null,
            "grid_row": null,
            "grid_template_areas": null,
            "grid_template_columns": null,
            "grid_template_rows": null,
            "height": null,
            "justify_content": null,
            "justify_items": null,
            "left": null,
            "margin": null,
            "max_height": null,
            "max_width": null,
            "min_height": null,
            "min_width": null,
            "object_fit": null,
            "object_position": null,
            "order": null,
            "overflow": null,
            "overflow_x": null,
            "overflow_y": null,
            "padding": null,
            "right": null,
            "top": null,
            "visibility": null,
            "width": null
          }
        },
        "5d63f445ae424acfa9052b8f5e433701": {
          "model_module": "@jupyter-widgets/controls",
          "model_name": "DescriptionStyleModel",
          "model_module_version": "1.5.0",
          "state": {
            "_model_module": "@jupyter-widgets/controls",
            "_model_module_version": "1.5.0",
            "_model_name": "DescriptionStyleModel",
            "_view_count": null,
            "_view_module": "@jupyter-widgets/base",
            "_view_module_version": "1.2.0",
            "_view_name": "StyleView",
            "description_width": ""
          }
        },
        "ae2a0c5ab33e4156806a60f71b2de70d": {
          "model_module": "@jupyter-widgets/controls",
          "model_name": "HBoxModel",
          "model_module_version": "1.5.0",
          "state": {
            "_dom_classes": [],
            "_model_module": "@jupyter-widgets/controls",
            "_model_module_version": "1.5.0",
            "_model_name": "HBoxModel",
            "_view_count": null,
            "_view_module": "@jupyter-widgets/controls",
            "_view_module_version": "1.5.0",
            "_view_name": "HBoxView",
            "box_style": "",
            "children": [
              "IPY_MODEL_55dc00c4e1b74565abc2714b032a3893",
              "IPY_MODEL_176fa26c6f79409b9bf1c770e4e0c318",
              "IPY_MODEL_3f7d03a7f9fa482382d3e94e44f666b0"
            ],
            "layout": "IPY_MODEL_1e4b8ae9754a400aaa87192a5c45d575"
          }
        },
        "55dc00c4e1b74565abc2714b032a3893": {
          "model_module": "@jupyter-widgets/controls",
          "model_name": "HTMLModel",
          "model_module_version": "1.5.0",
          "state": {
            "_dom_classes": [],
            "_model_module": "@jupyter-widgets/controls",
            "_model_module_version": "1.5.0",
            "_model_name": "HTMLModel",
            "_view_count": null,
            "_view_module": "@jupyter-widgets/controls",
            "_view_module_version": "1.5.0",
            "_view_name": "HTMLView",
            "description": "",
            "description_tooltip": null,
            "layout": "IPY_MODEL_57458cf4acff4d12b0665c9c5f6ad255",
            "placeholder": "​",
            "style": "IPY_MODEL_48c80e2161d545d5bf01eb0937e8ad3a",
            "value": "README.md: 100%"
          }
        },
        "176fa26c6f79409b9bf1c770e4e0c318": {
          "model_module": "@jupyter-widgets/controls",
          "model_name": "FloatProgressModel",
          "model_module_version": "1.5.0",
          "state": {
            "_dom_classes": [],
            "_model_module": "@jupyter-widgets/controls",
            "_model_module_version": "1.5.0",
            "_model_name": "FloatProgressModel",
            "_view_count": null,
            "_view_module": "@jupyter-widgets/controls",
            "_view_module_version": "1.5.0",
            "_view_name": "ProgressView",
            "bar_style": "success",
            "description": "",
            "description_tooltip": null,
            "layout": "IPY_MODEL_ac72705ba96d46d8975d4baa4dbf3ce8",
            "max": 139865,
            "min": 0,
            "orientation": "horizontal",
            "style": "IPY_MODEL_6b0d716d36d649d49f371a6e945ec146",
            "value": 139865
          }
        },
        "3f7d03a7f9fa482382d3e94e44f666b0": {
          "model_module": "@jupyter-widgets/controls",
          "model_name": "HTMLModel",
          "model_module_version": "1.5.0",
          "state": {
            "_dom_classes": [],
            "_model_module": "@jupyter-widgets/controls",
            "_model_module_version": "1.5.0",
            "_model_name": "HTMLModel",
            "_view_count": null,
            "_view_module": "@jupyter-widgets/controls",
            "_view_module_version": "1.5.0",
            "_view_name": "HTMLView",
            "description": "",
            "description_tooltip": null,
            "layout": "IPY_MODEL_80958aec868440078f33e006afd8e739",
            "placeholder": "​",
            "style": "IPY_MODEL_61ee80b2483245fab3a9bbc629936701",
            "value": " 140k/140k [00:00&lt;00:00, 1.13MB/s]"
          }
        },
        "1e4b8ae9754a400aaa87192a5c45d575": {
          "model_module": "@jupyter-widgets/base",
          "model_name": "LayoutModel",
          "model_module_version": "1.2.0",
          "state": {
            "_model_module": "@jupyter-widgets/base",
            "_model_module_version": "1.2.0",
            "_model_name": "LayoutModel",
            "_view_count": null,
            "_view_module": "@jupyter-widgets/base",
            "_view_module_version": "1.2.0",
            "_view_name": "LayoutView",
            "align_content": null,
            "align_items": null,
            "align_self": null,
            "border": null,
            "bottom": null,
            "display": null,
            "flex": null,
            "flex_flow": null,
            "grid_area": null,
            "grid_auto_columns": null,
            "grid_auto_flow": null,
            "grid_auto_rows": null,
            "grid_column": null,
            "grid_gap": null,
            "grid_row": null,
            "grid_template_areas": null,
            "grid_template_columns": null,
            "grid_template_rows": null,
            "height": null,
            "justify_content": null,
            "justify_items": null,
            "left": null,
            "margin": null,
            "max_height": null,
            "max_width": null,
            "min_height": null,
            "min_width": null,
            "object_fit": null,
            "object_position": null,
            "order": null,
            "overflow": null,
            "overflow_x": null,
            "overflow_y": null,
            "padding": null,
            "right": null,
            "top": null,
            "visibility": null,
            "width": null
          }
        },
        "57458cf4acff4d12b0665c9c5f6ad255": {
          "model_module": "@jupyter-widgets/base",
          "model_name": "LayoutModel",
          "model_module_version": "1.2.0",
          "state": {
            "_model_module": "@jupyter-widgets/base",
            "_model_module_version": "1.2.0",
            "_model_name": "LayoutModel",
            "_view_count": null,
            "_view_module": "@jupyter-widgets/base",
            "_view_module_version": "1.2.0",
            "_view_name": "LayoutView",
            "align_content": null,
            "align_items": null,
            "align_self": null,
            "border": null,
            "bottom": null,
            "display": null,
            "flex": null,
            "flex_flow": null,
            "grid_area": null,
            "grid_auto_columns": null,
            "grid_auto_flow": null,
            "grid_auto_rows": null,
            "grid_column": null,
            "grid_gap": null,
            "grid_row": null,
            "grid_template_areas": null,
            "grid_template_columns": null,
            "grid_template_rows": null,
            "height": null,
            "justify_content": null,
            "justify_items": null,
            "left": null,
            "margin": null,
            "max_height": null,
            "max_width": null,
            "min_height": null,
            "min_width": null,
            "object_fit": null,
            "object_position": null,
            "order": null,
            "overflow": null,
            "overflow_x": null,
            "overflow_y": null,
            "padding": null,
            "right": null,
            "top": null,
            "visibility": null,
            "width": null
          }
        },
        "48c80e2161d545d5bf01eb0937e8ad3a": {
          "model_module": "@jupyter-widgets/controls",
          "model_name": "DescriptionStyleModel",
          "model_module_version": "1.5.0",
          "state": {
            "_model_module": "@jupyter-widgets/controls",
            "_model_module_version": "1.5.0",
            "_model_name": "DescriptionStyleModel",
            "_view_count": null,
            "_view_module": "@jupyter-widgets/base",
            "_view_module_version": "1.2.0",
            "_view_name": "StyleView",
            "description_width": ""
          }
        },
        "ac72705ba96d46d8975d4baa4dbf3ce8": {
          "model_module": "@jupyter-widgets/base",
          "model_name": "LayoutModel",
          "model_module_version": "1.2.0",
          "state": {
            "_model_module": "@jupyter-widgets/base",
            "_model_module_version": "1.2.0",
            "_model_name": "LayoutModel",
            "_view_count": null,
            "_view_module": "@jupyter-widgets/base",
            "_view_module_version": "1.2.0",
            "_view_name": "LayoutView",
            "align_content": null,
            "align_items": null,
            "align_self": null,
            "border": null,
            "bottom": null,
            "display": null,
            "flex": null,
            "flex_flow": null,
            "grid_area": null,
            "grid_auto_columns": null,
            "grid_auto_flow": null,
            "grid_auto_rows": null,
            "grid_column": null,
            "grid_gap": null,
            "grid_row": null,
            "grid_template_areas": null,
            "grid_template_columns": null,
            "grid_template_rows": null,
            "height": null,
            "justify_content": null,
            "justify_items": null,
            "left": null,
            "margin": null,
            "max_height": null,
            "max_width": null,
            "min_height": null,
            "min_width": null,
            "object_fit": null,
            "object_position": null,
            "order": null,
            "overflow": null,
            "overflow_x": null,
            "overflow_y": null,
            "padding": null,
            "right": null,
            "top": null,
            "visibility": null,
            "width": null
          }
        },
        "6b0d716d36d649d49f371a6e945ec146": {
          "model_module": "@jupyter-widgets/controls",
          "model_name": "ProgressStyleModel",
          "model_module_version": "1.5.0",
          "state": {
            "_model_module": "@jupyter-widgets/controls",
            "_model_module_version": "1.5.0",
            "_model_name": "ProgressStyleModel",
            "_view_count": null,
            "_view_module": "@jupyter-widgets/base",
            "_view_module_version": "1.2.0",
            "_view_name": "StyleView",
            "bar_color": null,
            "description_width": ""
          }
        },
        "80958aec868440078f33e006afd8e739": {
          "model_module": "@jupyter-widgets/base",
          "model_name": "LayoutModel",
          "model_module_version": "1.2.0",
          "state": {
            "_model_module": "@jupyter-widgets/base",
            "_model_module_version": "1.2.0",
            "_model_name": "LayoutModel",
            "_view_count": null,
            "_view_module": "@jupyter-widgets/base",
            "_view_module_version": "1.2.0",
            "_view_name": "LayoutView",
            "align_content": null,
            "align_items": null,
            "align_self": null,
            "border": null,
            "bottom": null,
            "display": null,
            "flex": null,
            "flex_flow": null,
            "grid_area": null,
            "grid_auto_columns": null,
            "grid_auto_flow": null,
            "grid_auto_rows": null,
            "grid_column": null,
            "grid_gap": null,
            "grid_row": null,
            "grid_template_areas": null,
            "grid_template_columns": null,
            "grid_template_rows": null,
            "height": null,
            "justify_content": null,
            "justify_items": null,
            "left": null,
            "margin": null,
            "max_height": null,
            "max_width": null,
            "min_height": null,
            "min_width": null,
            "object_fit": null,
            "object_position": null,
            "order": null,
            "overflow": null,
            "overflow_x": null,
            "overflow_y": null,
            "padding": null,
            "right": null,
            "top": null,
            "visibility": null,
            "width": null
          }
        },
        "61ee80b2483245fab3a9bbc629936701": {
          "model_module": "@jupyter-widgets/controls",
          "model_name": "DescriptionStyleModel",
          "model_module_version": "1.5.0",
          "state": {
            "_model_module": "@jupyter-widgets/controls",
            "_model_module_version": "1.5.0",
            "_model_name": "DescriptionStyleModel",
            "_view_count": null,
            "_view_module": "@jupyter-widgets/base",
            "_view_module_version": "1.2.0",
            "_view_name": "StyleView",
            "description_width": ""
          }
        },
        "82a1c6c102bc454ea7ca8d86df3bbcf0": {
          "model_module": "@jupyter-widgets/controls",
          "model_name": "HBoxModel",
          "model_module_version": "1.5.0",
          "state": {
            "_dom_classes": [],
            "_model_module": "@jupyter-widgets/controls",
            "_model_module_version": "1.5.0",
            "_model_name": "HBoxModel",
            "_view_count": null,
            "_view_module": "@jupyter-widgets/controls",
            "_view_module_version": "1.5.0",
            "_view_name": "HBoxView",
            "box_style": "",
            "children": [
              "IPY_MODEL_1ed8160db5dd48c282523aa2efb01c70",
              "IPY_MODEL_b6900aa62c484e71a973f2afb8e2532e",
              "IPY_MODEL_0175b594bfaa4297a2e4993979c8b99d"
            ],
            "layout": "IPY_MODEL_a741157c20f64814bddbad187551fa87"
          }
        },
        "1ed8160db5dd48c282523aa2efb01c70": {
          "model_module": "@jupyter-widgets/controls",
          "model_name": "HTMLModel",
          "model_module_version": "1.5.0",
          "state": {
            "_dom_classes": [],
            "_model_module": "@jupyter-widgets/controls",
            "_model_module_version": "1.5.0",
            "_model_name": "HTMLModel",
            "_view_count": null,
            "_view_module": "@jupyter-widgets/controls",
            "_view_module_version": "1.5.0",
            "_view_name": "HTMLView",
            "description": "",
            "description_tooltip": null,
            "layout": "IPY_MODEL_d597f436e7a7414394e8e22cfe570227",
            "placeholder": "​",
            "style": "IPY_MODEL_f3ca756dc1ba484fbc914aec2b590001",
            "value": "config.json: 100%"
          }
        },
        "b6900aa62c484e71a973f2afb8e2532e": {
          "model_module": "@jupyter-widgets/controls",
          "model_name": "FloatProgressModel",
          "model_module_version": "1.5.0",
          "state": {
            "_dom_classes": [],
            "_model_module": "@jupyter-widgets/controls",
            "_model_module_version": "1.5.0",
            "_model_name": "FloatProgressModel",
            "_view_count": null,
            "_view_module": "@jupyter-widgets/controls",
            "_view_module_version": "1.5.0",
            "_view_name": "ProgressView",
            "bar_style": "success",
            "description": "",
            "description_tooltip": null,
            "layout": "IPY_MODEL_4017236d156b4b20bb26480bce111aab",
            "max": 690,
            "min": 0,
            "orientation": "horizontal",
            "style": "IPY_MODEL_24d291141e644fed82da3b775c0f268d",
            "value": 690
          }
        },
        "0175b594bfaa4297a2e4993979c8b99d": {
          "model_module": "@jupyter-widgets/controls",
          "model_name": "HTMLModel",
          "model_module_version": "1.5.0",
          "state": {
            "_dom_classes": [],
            "_model_module": "@jupyter-widgets/controls",
            "_model_module_version": "1.5.0",
            "_model_name": "HTMLModel",
            "_view_count": null,
            "_view_module": "@jupyter-widgets/controls",
            "_view_module_version": "1.5.0",
            "_view_name": "HTMLView",
            "description": "",
            "description_tooltip": null,
            "layout": "IPY_MODEL_1bec5e1aabd64f8e852ab0a1f7facf5e",
            "placeholder": "​",
            "style": "IPY_MODEL_340b93df0c0442beba910778aec7e385",
            "value": " 690/690 [00:00&lt;00:00, 10.2kB/s]"
          }
        },
        "a741157c20f64814bddbad187551fa87": {
          "model_module": "@jupyter-widgets/base",
          "model_name": "LayoutModel",
          "model_module_version": "1.2.0",
          "state": {
            "_model_module": "@jupyter-widgets/base",
            "_model_module_version": "1.2.0",
            "_model_name": "LayoutModel",
            "_view_count": null,
            "_view_module": "@jupyter-widgets/base",
            "_view_module_version": "1.2.0",
            "_view_name": "LayoutView",
            "align_content": null,
            "align_items": null,
            "align_self": null,
            "border": null,
            "bottom": null,
            "display": null,
            "flex": null,
            "flex_flow": null,
            "grid_area": null,
            "grid_auto_columns": null,
            "grid_auto_flow": null,
            "grid_auto_rows": null,
            "grid_column": null,
            "grid_gap": null,
            "grid_row": null,
            "grid_template_areas": null,
            "grid_template_columns": null,
            "grid_template_rows": null,
            "height": null,
            "justify_content": null,
            "justify_items": null,
            "left": null,
            "margin": null,
            "max_height": null,
            "max_width": null,
            "min_height": null,
            "min_width": null,
            "object_fit": null,
            "object_position": null,
            "order": null,
            "overflow": null,
            "overflow_x": null,
            "overflow_y": null,
            "padding": null,
            "right": null,
            "top": null,
            "visibility": null,
            "width": null
          }
        },
        "d597f436e7a7414394e8e22cfe570227": {
          "model_module": "@jupyter-widgets/base",
          "model_name": "LayoutModel",
          "model_module_version": "1.2.0",
          "state": {
            "_model_module": "@jupyter-widgets/base",
            "_model_module_version": "1.2.0",
            "_model_name": "LayoutModel",
            "_view_count": null,
            "_view_module": "@jupyter-widgets/base",
            "_view_module_version": "1.2.0",
            "_view_name": "LayoutView",
            "align_content": null,
            "align_items": null,
            "align_self": null,
            "border": null,
            "bottom": null,
            "display": null,
            "flex": null,
            "flex_flow": null,
            "grid_area": null,
            "grid_auto_columns": null,
            "grid_auto_flow": null,
            "grid_auto_rows": null,
            "grid_column": null,
            "grid_gap": null,
            "grid_row": null,
            "grid_template_areas": null,
            "grid_template_columns": null,
            "grid_template_rows": null,
            "height": null,
            "justify_content": null,
            "justify_items": null,
            "left": null,
            "margin": null,
            "max_height": null,
            "max_width": null,
            "min_height": null,
            "min_width": null,
            "object_fit": null,
            "object_position": null,
            "order": null,
            "overflow": null,
            "overflow_x": null,
            "overflow_y": null,
            "padding": null,
            "right": null,
            "top": null,
            "visibility": null,
            "width": null
          }
        },
        "f3ca756dc1ba484fbc914aec2b590001": {
          "model_module": "@jupyter-widgets/controls",
          "model_name": "DescriptionStyleModel",
          "model_module_version": "1.5.0",
          "state": {
            "_model_module": "@jupyter-widgets/controls",
            "_model_module_version": "1.5.0",
            "_model_name": "DescriptionStyleModel",
            "_view_count": null,
            "_view_module": "@jupyter-widgets/base",
            "_view_module_version": "1.2.0",
            "_view_name": "StyleView",
            "description_width": ""
          }
        },
        "4017236d156b4b20bb26480bce111aab": {
          "model_module": "@jupyter-widgets/base",
          "model_name": "LayoutModel",
          "model_module_version": "1.2.0",
          "state": {
            "_model_module": "@jupyter-widgets/base",
            "_model_module_version": "1.2.0",
            "_model_name": "LayoutModel",
            "_view_count": null,
            "_view_module": "@jupyter-widgets/base",
            "_view_module_version": "1.2.0",
            "_view_name": "LayoutView",
            "align_content": null,
            "align_items": null,
            "align_self": null,
            "border": null,
            "bottom": null,
            "display": null,
            "flex": null,
            "flex_flow": null,
            "grid_area": null,
            "grid_auto_columns": null,
            "grid_auto_flow": null,
            "grid_auto_rows": null,
            "grid_column": null,
            "grid_gap": null,
            "grid_row": null,
            "grid_template_areas": null,
            "grid_template_columns": null,
            "grid_template_rows": null,
            "height": null,
            "justify_content": null,
            "justify_items": null,
            "left": null,
            "margin": null,
            "max_height": null,
            "max_width": null,
            "min_height": null,
            "min_width": null,
            "object_fit": null,
            "object_position": null,
            "order": null,
            "overflow": null,
            "overflow_x": null,
            "overflow_y": null,
            "padding": null,
            "right": null,
            "top": null,
            "visibility": null,
            "width": null
          }
        },
        "24d291141e644fed82da3b775c0f268d": {
          "model_module": "@jupyter-widgets/controls",
          "model_name": "ProgressStyleModel",
          "model_module_version": "1.5.0",
          "state": {
            "_model_module": "@jupyter-widgets/controls",
            "_model_module_version": "1.5.0",
            "_model_name": "ProgressStyleModel",
            "_view_count": null,
            "_view_module": "@jupyter-widgets/base",
            "_view_module_version": "1.2.0",
            "_view_name": "StyleView",
            "bar_color": null,
            "description_width": ""
          }
        },
        "1bec5e1aabd64f8e852ab0a1f7facf5e": {
          "model_module": "@jupyter-widgets/base",
          "model_name": "LayoutModel",
          "model_module_version": "1.2.0",
          "state": {
            "_model_module": "@jupyter-widgets/base",
            "_model_module_version": "1.2.0",
            "_model_name": "LayoutModel",
            "_view_count": null,
            "_view_module": "@jupyter-widgets/base",
            "_view_module_version": "1.2.0",
            "_view_name": "LayoutView",
            "align_content": null,
            "align_items": null,
            "align_self": null,
            "border": null,
            "bottom": null,
            "display": null,
            "flex": null,
            "flex_flow": null,
            "grid_area": null,
            "grid_auto_columns": null,
            "grid_auto_flow": null,
            "grid_auto_rows": null,
            "grid_column": null,
            "grid_gap": null,
            "grid_row": null,
            "grid_template_areas": null,
            "grid_template_columns": null,
            "grid_template_rows": null,
            "height": null,
            "justify_content": null,
            "justify_items": null,
            "left": null,
            "margin": null,
            "max_height": null,
            "max_width": null,
            "min_height": null,
            "min_width": null,
            "object_fit": null,
            "object_position": null,
            "order": null,
            "overflow": null,
            "overflow_x": null,
            "overflow_y": null,
            "padding": null,
            "right": null,
            "top": null,
            "visibility": null,
            "width": null
          }
        },
        "340b93df0c0442beba910778aec7e385": {
          "model_module": "@jupyter-widgets/controls",
          "model_name": "DescriptionStyleModel",
          "model_module_version": "1.5.0",
          "state": {
            "_model_module": "@jupyter-widgets/controls",
            "_model_module_version": "1.5.0",
            "_model_name": "DescriptionStyleModel",
            "_view_count": null,
            "_view_module": "@jupyter-widgets/base",
            "_view_module_version": "1.2.0",
            "_view_name": "StyleView",
            "description_width": ""
          }
        },
        "0bea737dd1b74605af18d6eb27741696": {
          "model_module": "@jupyter-widgets/controls",
          "model_name": "HBoxModel",
          "model_module_version": "1.5.0",
          "state": {
            "_dom_classes": [],
            "_model_module": "@jupyter-widgets/controls",
            "_model_module_version": "1.5.0",
            "_model_name": "HBoxModel",
            "_view_count": null,
            "_view_module": "@jupyter-widgets/controls",
            "_view_module_version": "1.5.0",
            "_view_name": "HBoxView",
            "box_style": "",
            "children": [
              "IPY_MODEL_2a00f5da9b5b482da7d86aa253061eb3",
              "IPY_MODEL_f5b789cfa02f403786162cc5a599fb38",
              "IPY_MODEL_6af47367f55d444292aa2dbbace454f4"
            ],
            "layout": "IPY_MODEL_e2c002fbdab44af69a8583339ccfab33"
          }
        },
        "2a00f5da9b5b482da7d86aa253061eb3": {
          "model_module": "@jupyter-widgets/controls",
          "model_name": "HTMLModel",
          "model_module_version": "1.5.0",
          "state": {
            "_dom_classes": [],
            "_model_module": "@jupyter-widgets/controls",
            "_model_module_version": "1.5.0",
            "_model_name": "HTMLModel",
            "_view_count": null,
            "_view_module": "@jupyter-widgets/controls",
            "_view_module_version": "1.5.0",
            "_view_name": "HTMLView",
            "description": "",
            "description_tooltip": null,
            "layout": "IPY_MODEL_e7d4a3c93608476bbed1cf86b0da0319",
            "placeholder": "​",
            "style": "IPY_MODEL_df452b70041f466aa9dd9c94457743ce",
            "value": "model.safetensors: 100%"
          }
        },
        "f5b789cfa02f403786162cc5a599fb38": {
          "model_module": "@jupyter-widgets/controls",
          "model_name": "FloatProgressModel",
          "model_module_version": "1.5.0",
          "state": {
            "_dom_classes": [],
            "_model_module": "@jupyter-widgets/controls",
            "_model_module_version": "1.5.0",
            "_model_name": "FloatProgressModel",
            "_view_count": null,
            "_view_module": "@jupyter-widgets/controls",
            "_view_module_version": "1.5.0",
            "_view_name": "ProgressView",
            "bar_style": "success",
            "description": "",
            "description_tooltip": null,
            "layout": "IPY_MODEL_9c6a4d6a191a44d8b2942753920f3ded",
            "max": 1119825680,
            "min": 0,
            "orientation": "horizontal",
            "style": "IPY_MODEL_9e61b44ffaa8441e81baa399ab5dba56",
            "value": 1119825680
          }
        },
        "6af47367f55d444292aa2dbbace454f4": {
          "model_module": "@jupyter-widgets/controls",
          "model_name": "HTMLModel",
          "model_module_version": "1.5.0",
          "state": {
            "_dom_classes": [],
            "_model_module": "@jupyter-widgets/controls",
            "_model_module_version": "1.5.0",
            "_model_name": "HTMLModel",
            "_view_count": null,
            "_view_module": "@jupyter-widgets/controls",
            "_view_module_version": "1.5.0",
            "_view_name": "HTMLView",
            "description": "",
            "description_tooltip": null,
            "layout": "IPY_MODEL_0de301859b6b4625aaacb9de393e134b",
            "placeholder": "​",
            "style": "IPY_MODEL_9ceeec1965104b05aa6327de6cb7c37d",
            "value": " 1.12G/1.12G [00:12&lt;00:00, 133MB/s]"
          }
        },
        "e2c002fbdab44af69a8583339ccfab33": {
          "model_module": "@jupyter-widgets/base",
          "model_name": "LayoutModel",
          "model_module_version": "1.2.0",
          "state": {
            "_model_module": "@jupyter-widgets/base",
            "_model_module_version": "1.2.0",
            "_model_name": "LayoutModel",
            "_view_count": null,
            "_view_module": "@jupyter-widgets/base",
            "_view_module_version": "1.2.0",
            "_view_name": "LayoutView",
            "align_content": null,
            "align_items": null,
            "align_self": null,
            "border": null,
            "bottom": null,
            "display": null,
            "flex": null,
            "flex_flow": null,
            "grid_area": null,
            "grid_auto_columns": null,
            "grid_auto_flow": null,
            "grid_auto_rows": null,
            "grid_column": null,
            "grid_gap": null,
            "grid_row": null,
            "grid_template_areas": null,
            "grid_template_columns": null,
            "grid_template_rows": null,
            "height": null,
            "justify_content": null,
            "justify_items": null,
            "left": null,
            "margin": null,
            "max_height": null,
            "max_width": null,
            "min_height": null,
            "min_width": null,
            "object_fit": null,
            "object_position": null,
            "order": null,
            "overflow": null,
            "overflow_x": null,
            "overflow_y": null,
            "padding": null,
            "right": null,
            "top": null,
            "visibility": null,
            "width": null
          }
        },
        "e7d4a3c93608476bbed1cf86b0da0319": {
          "model_module": "@jupyter-widgets/base",
          "model_name": "LayoutModel",
          "model_module_version": "1.2.0",
          "state": {
            "_model_module": "@jupyter-widgets/base",
            "_model_module_version": "1.2.0",
            "_model_name": "LayoutModel",
            "_view_count": null,
            "_view_module": "@jupyter-widgets/base",
            "_view_module_version": "1.2.0",
            "_view_name": "LayoutView",
            "align_content": null,
            "align_items": null,
            "align_self": null,
            "border": null,
            "bottom": null,
            "display": null,
            "flex": null,
            "flex_flow": null,
            "grid_area": null,
            "grid_auto_columns": null,
            "grid_auto_flow": null,
            "grid_auto_rows": null,
            "grid_column": null,
            "grid_gap": null,
            "grid_row": null,
            "grid_template_areas": null,
            "grid_template_columns": null,
            "grid_template_rows": null,
            "height": null,
            "justify_content": null,
            "justify_items": null,
            "left": null,
            "margin": null,
            "max_height": null,
            "max_width": null,
            "min_height": null,
            "min_width": null,
            "object_fit": null,
            "object_position": null,
            "order": null,
            "overflow": null,
            "overflow_x": null,
            "overflow_y": null,
            "padding": null,
            "right": null,
            "top": null,
            "visibility": null,
            "width": null
          }
        },
        "df452b70041f466aa9dd9c94457743ce": {
          "model_module": "@jupyter-widgets/controls",
          "model_name": "DescriptionStyleModel",
          "model_module_version": "1.5.0",
          "state": {
            "_model_module": "@jupyter-widgets/controls",
            "_model_module_version": "1.5.0",
            "_model_name": "DescriptionStyleModel",
            "_view_count": null,
            "_view_module": "@jupyter-widgets/base",
            "_view_module_version": "1.2.0",
            "_view_name": "StyleView",
            "description_width": ""
          }
        },
        "9c6a4d6a191a44d8b2942753920f3ded": {
          "model_module": "@jupyter-widgets/base",
          "model_name": "LayoutModel",
          "model_module_version": "1.2.0",
          "state": {
            "_model_module": "@jupyter-widgets/base",
            "_model_module_version": "1.2.0",
            "_model_name": "LayoutModel",
            "_view_count": null,
            "_view_module": "@jupyter-widgets/base",
            "_view_module_version": "1.2.0",
            "_view_name": "LayoutView",
            "align_content": null,
            "align_items": null,
            "align_self": null,
            "border": null,
            "bottom": null,
            "display": null,
            "flex": null,
            "flex_flow": null,
            "grid_area": null,
            "grid_auto_columns": null,
            "grid_auto_flow": null,
            "grid_auto_rows": null,
            "grid_column": null,
            "grid_gap": null,
            "grid_row": null,
            "grid_template_areas": null,
            "grid_template_columns": null,
            "grid_template_rows": null,
            "height": null,
            "justify_content": null,
            "justify_items": null,
            "left": null,
            "margin": null,
            "max_height": null,
            "max_width": null,
            "min_height": null,
            "min_width": null,
            "object_fit": null,
            "object_position": null,
            "order": null,
            "overflow": null,
            "overflow_x": null,
            "overflow_y": null,
            "padding": null,
            "right": null,
            "top": null,
            "visibility": null,
            "width": null
          }
        },
        "9e61b44ffaa8441e81baa399ab5dba56": {
          "model_module": "@jupyter-widgets/controls",
          "model_name": "ProgressStyleModel",
          "model_module_version": "1.5.0",
          "state": {
            "_model_module": "@jupyter-widgets/controls",
            "_model_module_version": "1.5.0",
            "_model_name": "ProgressStyleModel",
            "_view_count": null,
            "_view_module": "@jupyter-widgets/base",
            "_view_module_version": "1.2.0",
            "_view_name": "StyleView",
            "bar_color": null,
            "description_width": ""
          }
        },
        "0de301859b6b4625aaacb9de393e134b": {
          "model_module": "@jupyter-widgets/base",
          "model_name": "LayoutModel",
          "model_module_version": "1.2.0",
          "state": {
            "_model_module": "@jupyter-widgets/base",
            "_model_module_version": "1.2.0",
            "_model_name": "LayoutModel",
            "_view_count": null,
            "_view_module": "@jupyter-widgets/base",
            "_view_module_version": "1.2.0",
            "_view_name": "LayoutView",
            "align_content": null,
            "align_items": null,
            "align_self": null,
            "border": null,
            "bottom": null,
            "display": null,
            "flex": null,
            "flex_flow": null,
            "grid_area": null,
            "grid_auto_columns": null,
            "grid_auto_flow": null,
            "grid_auto_rows": null,
            "grid_column": null,
            "grid_gap": null,
            "grid_row": null,
            "grid_template_areas": null,
            "grid_template_columns": null,
            "grid_template_rows": null,
            "height": null,
            "justify_content": null,
            "justify_items": null,
            "left": null,
            "margin": null,
            "max_height": null,
            "max_width": null,
            "min_height": null,
            "min_width": null,
            "object_fit": null,
            "object_position": null,
            "order": null,
            "overflow": null,
            "overflow_x": null,
            "overflow_y": null,
            "padding": null,
            "right": null,
            "top": null,
            "visibility": null,
            "width": null
          }
        },
        "9ceeec1965104b05aa6327de6cb7c37d": {
          "model_module": "@jupyter-widgets/controls",
          "model_name": "DescriptionStyleModel",
          "model_module_version": "1.5.0",
          "state": {
            "_model_module": "@jupyter-widgets/controls",
            "_model_module_version": "1.5.0",
            "_model_name": "DescriptionStyleModel",
            "_view_count": null,
            "_view_module": "@jupyter-widgets/base",
            "_view_module_version": "1.2.0",
            "_view_name": "StyleView",
            "description_width": ""
          }
        },
        "99c10feca0944195abdf18285723f813": {
          "model_module": "@jupyter-widgets/controls",
          "model_name": "HBoxModel",
          "model_module_version": "1.5.0",
          "state": {
            "_dom_classes": [],
            "_model_module": "@jupyter-widgets/controls",
            "_model_module_version": "1.5.0",
            "_model_name": "HBoxModel",
            "_view_count": null,
            "_view_module": "@jupyter-widgets/controls",
            "_view_module_version": "1.5.0",
            "_view_name": "HBoxView",
            "box_style": "",
            "children": [
              "IPY_MODEL_d28eeb1dcc6a47e5b83077886c16e1d8",
              "IPY_MODEL_346616297c924509b0687ae8123a7fbb",
              "IPY_MODEL_7dc42351fcb2439c86be1ed79c8efe80"
            ],
            "layout": "IPY_MODEL_7044eb0b8ac84ff6aee0dec9242a75dd"
          }
        },
        "d28eeb1dcc6a47e5b83077886c16e1d8": {
          "model_module": "@jupyter-widgets/controls",
          "model_name": "HTMLModel",
          "model_module_version": "1.5.0",
          "state": {
            "_dom_classes": [],
            "_model_module": "@jupyter-widgets/controls",
            "_model_module_version": "1.5.0",
            "_model_name": "HTMLModel",
            "_view_count": null,
            "_view_module": "@jupyter-widgets/controls",
            "_view_module_version": "1.5.0",
            "_view_name": "HTMLView",
            "description": "",
            "description_tooltip": null,
            "layout": "IPY_MODEL_2002ee694c4841f3acc42662289b7c94",
            "placeholder": "​",
            "style": "IPY_MODEL_a948a490466e4642b9cf0a0cc3867854",
            "value": "tokenizer_config.json: 100%"
          }
        },
        "346616297c924509b0687ae8123a7fbb": {
          "model_module": "@jupyter-widgets/controls",
          "model_name": "FloatProgressModel",
          "model_module_version": "1.5.0",
          "state": {
            "_dom_classes": [],
            "_model_module": "@jupyter-widgets/controls",
            "_model_module_version": "1.5.0",
            "_model_name": "FloatProgressModel",
            "_view_count": null,
            "_view_module": "@jupyter-widgets/controls",
            "_view_module_version": "1.5.0",
            "_view_name": "ProgressView",
            "bar_style": "success",
            "description": "",
            "description_tooltip": null,
            "layout": "IPY_MODEL_a3cb975c115a43c19012208db3862d27",
            "max": 1182,
            "min": 0,
            "orientation": "horizontal",
            "style": "IPY_MODEL_9fc33d681dbc4df4a4b241ddb8b62606",
            "value": 1182
          }
        },
        "7dc42351fcb2439c86be1ed79c8efe80": {
          "model_module": "@jupyter-widgets/controls",
          "model_name": "HTMLModel",
          "model_module_version": "1.5.0",
          "state": {
            "_dom_classes": [],
            "_model_module": "@jupyter-widgets/controls",
            "_model_module_version": "1.5.0",
            "_model_name": "HTMLModel",
            "_view_count": null,
            "_view_module": "@jupyter-widgets/controls",
            "_view_module_version": "1.5.0",
            "_view_name": "HTMLView",
            "description": "",
            "description_tooltip": null,
            "layout": "IPY_MODEL_f2222213fc694bde88f3a2a1ac4c1293",
            "placeholder": "​",
            "style": "IPY_MODEL_92800e663e8e4584990e799553a31f71",
            "value": " 1.18k/1.18k [00:00&lt;00:00, 35.2kB/s]"
          }
        },
        "7044eb0b8ac84ff6aee0dec9242a75dd": {
          "model_module": "@jupyter-widgets/base",
          "model_name": "LayoutModel",
          "model_module_version": "1.2.0",
          "state": {
            "_model_module": "@jupyter-widgets/base",
            "_model_module_version": "1.2.0",
            "_model_name": "LayoutModel",
            "_view_count": null,
            "_view_module": "@jupyter-widgets/base",
            "_view_module_version": "1.2.0",
            "_view_name": "LayoutView",
            "align_content": null,
            "align_items": null,
            "align_self": null,
            "border": null,
            "bottom": null,
            "display": null,
            "flex": null,
            "flex_flow": null,
            "grid_area": null,
            "grid_auto_columns": null,
            "grid_auto_flow": null,
            "grid_auto_rows": null,
            "grid_column": null,
            "grid_gap": null,
            "grid_row": null,
            "grid_template_areas": null,
            "grid_template_columns": null,
            "grid_template_rows": null,
            "height": null,
            "justify_content": null,
            "justify_items": null,
            "left": null,
            "margin": null,
            "max_height": null,
            "max_width": null,
            "min_height": null,
            "min_width": null,
            "object_fit": null,
            "object_position": null,
            "order": null,
            "overflow": null,
            "overflow_x": null,
            "overflow_y": null,
            "padding": null,
            "right": null,
            "top": null,
            "visibility": null,
            "width": null
          }
        },
        "2002ee694c4841f3acc42662289b7c94": {
          "model_module": "@jupyter-widgets/base",
          "model_name": "LayoutModel",
          "model_module_version": "1.2.0",
          "state": {
            "_model_module": "@jupyter-widgets/base",
            "_model_module_version": "1.2.0",
            "_model_name": "LayoutModel",
            "_view_count": null,
            "_view_module": "@jupyter-widgets/base",
            "_view_module_version": "1.2.0",
            "_view_name": "LayoutView",
            "align_content": null,
            "align_items": null,
            "align_self": null,
            "border": null,
            "bottom": null,
            "display": null,
            "flex": null,
            "flex_flow": null,
            "grid_area": null,
            "grid_auto_columns": null,
            "grid_auto_flow": null,
            "grid_auto_rows": null,
            "grid_column": null,
            "grid_gap": null,
            "grid_row": null,
            "grid_template_areas": null,
            "grid_template_columns": null,
            "grid_template_rows": null,
            "height": null,
            "justify_content": null,
            "justify_items": null,
            "left": null,
            "margin": null,
            "max_height": null,
            "max_width": null,
            "min_height": null,
            "min_width": null,
            "object_fit": null,
            "object_position": null,
            "order": null,
            "overflow": null,
            "overflow_x": null,
            "overflow_y": null,
            "padding": null,
            "right": null,
            "top": null,
            "visibility": null,
            "width": null
          }
        },
        "a948a490466e4642b9cf0a0cc3867854": {
          "model_module": "@jupyter-widgets/controls",
          "model_name": "DescriptionStyleModel",
          "model_module_version": "1.5.0",
          "state": {
            "_model_module": "@jupyter-widgets/controls",
            "_model_module_version": "1.5.0",
            "_model_name": "DescriptionStyleModel",
            "_view_count": null,
            "_view_module": "@jupyter-widgets/base",
            "_view_module_version": "1.2.0",
            "_view_name": "StyleView",
            "description_width": ""
          }
        },
        "a3cb975c115a43c19012208db3862d27": {
          "model_module": "@jupyter-widgets/base",
          "model_name": "LayoutModel",
          "model_module_version": "1.2.0",
          "state": {
            "_model_module": "@jupyter-widgets/base",
            "_model_module_version": "1.2.0",
            "_model_name": "LayoutModel",
            "_view_count": null,
            "_view_module": "@jupyter-widgets/base",
            "_view_module_version": "1.2.0",
            "_view_name": "LayoutView",
            "align_content": null,
            "align_items": null,
            "align_self": null,
            "border": null,
            "bottom": null,
            "display": null,
            "flex": null,
            "flex_flow": null,
            "grid_area": null,
            "grid_auto_columns": null,
            "grid_auto_flow": null,
            "grid_auto_rows": null,
            "grid_column": null,
            "grid_gap": null,
            "grid_row": null,
            "grid_template_areas": null,
            "grid_template_columns": null,
            "grid_template_rows": null,
            "height": null,
            "justify_content": null,
            "justify_items": null,
            "left": null,
            "margin": null,
            "max_height": null,
            "max_width": null,
            "min_height": null,
            "min_width": null,
            "object_fit": null,
            "object_position": null,
            "order": null,
            "overflow": null,
            "overflow_x": null,
            "overflow_y": null,
            "padding": null,
            "right": null,
            "top": null,
            "visibility": null,
            "width": null
          }
        },
        "9fc33d681dbc4df4a4b241ddb8b62606": {
          "model_module": "@jupyter-widgets/controls",
          "model_name": "ProgressStyleModel",
          "model_module_version": "1.5.0",
          "state": {
            "_model_module": "@jupyter-widgets/controls",
            "_model_module_version": "1.5.0",
            "_model_name": "ProgressStyleModel",
            "_view_count": null,
            "_view_module": "@jupyter-widgets/base",
            "_view_module_version": "1.2.0",
            "_view_name": "StyleView",
            "bar_color": null,
            "description_width": ""
          }
        },
        "f2222213fc694bde88f3a2a1ac4c1293": {
          "model_module": "@jupyter-widgets/base",
          "model_name": "LayoutModel",
          "model_module_version": "1.2.0",
          "state": {
            "_model_module": "@jupyter-widgets/base",
            "_model_module_version": "1.2.0",
            "_model_name": "LayoutModel",
            "_view_count": null,
            "_view_module": "@jupyter-widgets/base",
            "_view_module_version": "1.2.0",
            "_view_name": "LayoutView",
            "align_content": null,
            "align_items": null,
            "align_self": null,
            "border": null,
            "bottom": null,
            "display": null,
            "flex": null,
            "flex_flow": null,
            "grid_area": null,
            "grid_auto_columns": null,
            "grid_auto_flow": null,
            "grid_auto_rows": null,
            "grid_column": null,
            "grid_gap": null,
            "grid_row": null,
            "grid_template_areas": null,
            "grid_template_columns": null,
            "grid_template_rows": null,
            "height": null,
            "justify_content": null,
            "justify_items": null,
            "left": null,
            "margin": null,
            "max_height": null,
            "max_width": null,
            "min_height": null,
            "min_width": null,
            "object_fit": null,
            "object_position": null,
            "order": null,
            "overflow": null,
            "overflow_x": null,
            "overflow_y": null,
            "padding": null,
            "right": null,
            "top": null,
            "visibility": null,
            "width": null
          }
        },
        "92800e663e8e4584990e799553a31f71": {
          "model_module": "@jupyter-widgets/controls",
          "model_name": "DescriptionStyleModel",
          "model_module_version": "1.5.0",
          "state": {
            "_model_module": "@jupyter-widgets/controls",
            "_model_module_version": "1.5.0",
            "_model_name": "DescriptionStyleModel",
            "_view_count": null,
            "_view_module": "@jupyter-widgets/base",
            "_view_module_version": "1.2.0",
            "_view_name": "StyleView",
            "description_width": ""
          }
        },
        "2ee766c29173466da2ae40d4a28e58ef": {
          "model_module": "@jupyter-widgets/controls",
          "model_name": "HBoxModel",
          "model_module_version": "1.5.0",
          "state": {
            "_dom_classes": [],
            "_model_module": "@jupyter-widgets/controls",
            "_model_module_version": "1.5.0",
            "_model_name": "HBoxModel",
            "_view_count": null,
            "_view_module": "@jupyter-widgets/controls",
            "_view_module_version": "1.5.0",
            "_view_name": "HBoxView",
            "box_style": "",
            "children": [
              "IPY_MODEL_33505a6da4e047eaa03d7192c79fa5f0",
              "IPY_MODEL_157488e288f648079dba261f40579e82",
              "IPY_MODEL_23e8c891bb024e74a71324f51366c577"
            ],
            "layout": "IPY_MODEL_79e640cadd734d0aa4877aa19df98701"
          }
        },
        "33505a6da4e047eaa03d7192c79fa5f0": {
          "model_module": "@jupyter-widgets/controls",
          "model_name": "HTMLModel",
          "model_module_version": "1.5.0",
          "state": {
            "_dom_classes": [],
            "_model_module": "@jupyter-widgets/controls",
            "_model_module_version": "1.5.0",
            "_model_name": "HTMLModel",
            "_view_count": null,
            "_view_module": "@jupyter-widgets/controls",
            "_view_module_version": "1.5.0",
            "_view_name": "HTMLView",
            "description": "",
            "description_tooltip": null,
            "layout": "IPY_MODEL_124b330655424597953d64be83d5b7d0",
            "placeholder": "​",
            "style": "IPY_MODEL_d987816277e84988b6f217658b26ccb7",
            "value": "sentencepiece.bpe.model: 100%"
          }
        },
        "157488e288f648079dba261f40579e82": {
          "model_module": "@jupyter-widgets/controls",
          "model_name": "FloatProgressModel",
          "model_module_version": "1.5.0",
          "state": {
            "_dom_classes": [],
            "_model_module": "@jupyter-widgets/controls",
            "_model_module_version": "1.5.0",
            "_model_name": "FloatProgressModel",
            "_view_count": null,
            "_view_module": "@jupyter-widgets/controls",
            "_view_module_version": "1.5.0",
            "_view_name": "ProgressView",
            "bar_style": "success",
            "description": "",
            "description_tooltip": null,
            "layout": "IPY_MODEL_d660a34a9f9b4f18b7dc8fea5009476a",
            "max": 5069051,
            "min": 0,
            "orientation": "horizontal",
            "style": "IPY_MODEL_919a005782ff4e49bf8e497dcd782601",
            "value": 5069051
          }
        },
        "23e8c891bb024e74a71324f51366c577": {
          "model_module": "@jupyter-widgets/controls",
          "model_name": "HTMLModel",
          "model_module_version": "1.5.0",
          "state": {
            "_dom_classes": [],
            "_model_module": "@jupyter-widgets/controls",
            "_model_module_version": "1.5.0",
            "_model_name": "HTMLModel",
            "_view_count": null,
            "_view_module": "@jupyter-widgets/controls",
            "_view_module_version": "1.5.0",
            "_view_name": "HTMLView",
            "description": "",
            "description_tooltip": null,
            "layout": "IPY_MODEL_e2ebbfeb29f6474b9dca9ea046890597",
            "placeholder": "​",
            "style": "IPY_MODEL_a63cbb565a624436abeba7b001050758",
            "value": " 5.07M/5.07M [00:00&lt;00:00, 59.1MB/s]"
          }
        },
        "79e640cadd734d0aa4877aa19df98701": {
          "model_module": "@jupyter-widgets/base",
          "model_name": "LayoutModel",
          "model_module_version": "1.2.0",
          "state": {
            "_model_module": "@jupyter-widgets/base",
            "_model_module_version": "1.2.0",
            "_model_name": "LayoutModel",
            "_view_count": null,
            "_view_module": "@jupyter-widgets/base",
            "_view_module_version": "1.2.0",
            "_view_name": "LayoutView",
            "align_content": null,
            "align_items": null,
            "align_self": null,
            "border": null,
            "bottom": null,
            "display": null,
            "flex": null,
            "flex_flow": null,
            "grid_area": null,
            "grid_auto_columns": null,
            "grid_auto_flow": null,
            "grid_auto_rows": null,
            "grid_column": null,
            "grid_gap": null,
            "grid_row": null,
            "grid_template_areas": null,
            "grid_template_columns": null,
            "grid_template_rows": null,
            "height": null,
            "justify_content": null,
            "justify_items": null,
            "left": null,
            "margin": null,
            "max_height": null,
            "max_width": null,
            "min_height": null,
            "min_width": null,
            "object_fit": null,
            "object_position": null,
            "order": null,
            "overflow": null,
            "overflow_x": null,
            "overflow_y": null,
            "padding": null,
            "right": null,
            "top": null,
            "visibility": null,
            "width": null
          }
        },
        "124b330655424597953d64be83d5b7d0": {
          "model_module": "@jupyter-widgets/base",
          "model_name": "LayoutModel",
          "model_module_version": "1.2.0",
          "state": {
            "_model_module": "@jupyter-widgets/base",
            "_model_module_version": "1.2.0",
            "_model_name": "LayoutModel",
            "_view_count": null,
            "_view_module": "@jupyter-widgets/base",
            "_view_module_version": "1.2.0",
            "_view_name": "LayoutView",
            "align_content": null,
            "align_items": null,
            "align_self": null,
            "border": null,
            "bottom": null,
            "display": null,
            "flex": null,
            "flex_flow": null,
            "grid_area": null,
            "grid_auto_columns": null,
            "grid_auto_flow": null,
            "grid_auto_rows": null,
            "grid_column": null,
            "grid_gap": null,
            "grid_row": null,
            "grid_template_areas": null,
            "grid_template_columns": null,
            "grid_template_rows": null,
            "height": null,
            "justify_content": null,
            "justify_items": null,
            "left": null,
            "margin": null,
            "max_height": null,
            "max_width": null,
            "min_height": null,
            "min_width": null,
            "object_fit": null,
            "object_position": null,
            "order": null,
            "overflow": null,
            "overflow_x": null,
            "overflow_y": null,
            "padding": null,
            "right": null,
            "top": null,
            "visibility": null,
            "width": null
          }
        },
        "d987816277e84988b6f217658b26ccb7": {
          "model_module": "@jupyter-widgets/controls",
          "model_name": "DescriptionStyleModel",
          "model_module_version": "1.5.0",
          "state": {
            "_model_module": "@jupyter-widgets/controls",
            "_model_module_version": "1.5.0",
            "_model_name": "DescriptionStyleModel",
            "_view_count": null,
            "_view_module": "@jupyter-widgets/base",
            "_view_module_version": "1.2.0",
            "_view_name": "StyleView",
            "description_width": ""
          }
        },
        "d660a34a9f9b4f18b7dc8fea5009476a": {
          "model_module": "@jupyter-widgets/base",
          "model_name": "LayoutModel",
          "model_module_version": "1.2.0",
          "state": {
            "_model_module": "@jupyter-widgets/base",
            "_model_module_version": "1.2.0",
            "_model_name": "LayoutModel",
            "_view_count": null,
            "_view_module": "@jupyter-widgets/base",
            "_view_module_version": "1.2.0",
            "_view_name": "LayoutView",
            "align_content": null,
            "align_items": null,
            "align_self": null,
            "border": null,
            "bottom": null,
            "display": null,
            "flex": null,
            "flex_flow": null,
            "grid_area": null,
            "grid_auto_columns": null,
            "grid_auto_flow": null,
            "grid_auto_rows": null,
            "grid_column": null,
            "grid_gap": null,
            "grid_row": null,
            "grid_template_areas": null,
            "grid_template_columns": null,
            "grid_template_rows": null,
            "height": null,
            "justify_content": null,
            "justify_items": null,
            "left": null,
            "margin": null,
            "max_height": null,
            "max_width": null,
            "min_height": null,
            "min_width": null,
            "object_fit": null,
            "object_position": null,
            "order": null,
            "overflow": null,
            "overflow_x": null,
            "overflow_y": null,
            "padding": null,
            "right": null,
            "top": null,
            "visibility": null,
            "width": null
          }
        },
        "919a005782ff4e49bf8e497dcd782601": {
          "model_module": "@jupyter-widgets/controls",
          "model_name": "ProgressStyleModel",
          "model_module_version": "1.5.0",
          "state": {
            "_model_module": "@jupyter-widgets/controls",
            "_model_module_version": "1.5.0",
            "_model_name": "ProgressStyleModel",
            "_view_count": null,
            "_view_module": "@jupyter-widgets/base",
            "_view_module_version": "1.2.0",
            "_view_name": "StyleView",
            "bar_color": null,
            "description_width": ""
          }
        },
        "e2ebbfeb29f6474b9dca9ea046890597": {
          "model_module": "@jupyter-widgets/base",
          "model_name": "LayoutModel",
          "model_module_version": "1.2.0",
          "state": {
            "_model_module": "@jupyter-widgets/base",
            "_model_module_version": "1.2.0",
            "_model_name": "LayoutModel",
            "_view_count": null,
            "_view_module": "@jupyter-widgets/base",
            "_view_module_version": "1.2.0",
            "_view_name": "LayoutView",
            "align_content": null,
            "align_items": null,
            "align_self": null,
            "border": null,
            "bottom": null,
            "display": null,
            "flex": null,
            "flex_flow": null,
            "grid_area": null,
            "grid_auto_columns": null,
            "grid_auto_flow": null,
            "grid_auto_rows": null,
            "grid_column": null,
            "grid_gap": null,
            "grid_row": null,
            "grid_template_areas": null,
            "grid_template_columns": null,
            "grid_template_rows": null,
            "height": null,
            "justify_content": null,
            "justify_items": null,
            "left": null,
            "margin": null,
            "max_height": null,
            "max_width": null,
            "min_height": null,
            "min_width": null,
            "object_fit": null,
            "object_position": null,
            "order": null,
            "overflow": null,
            "overflow_x": null,
            "overflow_y": null,
            "padding": null,
            "right": null,
            "top": null,
            "visibility": null,
            "width": null
          }
        },
        "a63cbb565a624436abeba7b001050758": {
          "model_module": "@jupyter-widgets/controls",
          "model_name": "DescriptionStyleModel",
          "model_module_version": "1.5.0",
          "state": {
            "_model_module": "@jupyter-widgets/controls",
            "_model_module_version": "1.5.0",
            "_model_name": "DescriptionStyleModel",
            "_view_count": null,
            "_view_module": "@jupyter-widgets/base",
            "_view_module_version": "1.2.0",
            "_view_name": "StyleView",
            "description_width": ""
          }
        },
        "7f897e46e9654871ba72246e612626c9": {
          "model_module": "@jupyter-widgets/controls",
          "model_name": "HBoxModel",
          "model_module_version": "1.5.0",
          "state": {
            "_dom_classes": [],
            "_model_module": "@jupyter-widgets/controls",
            "_model_module_version": "1.5.0",
            "_model_name": "HBoxModel",
            "_view_count": null,
            "_view_module": "@jupyter-widgets/controls",
            "_view_module_version": "1.5.0",
            "_view_name": "HBoxView",
            "box_style": "",
            "children": [
              "IPY_MODEL_6a40f9b2ed774111b2c75bb746225d23",
              "IPY_MODEL_6145f19e2db54ef88075d768536d225c",
              "IPY_MODEL_d26efabadf0448f1954ae78894ada510"
            ],
            "layout": "IPY_MODEL_a278de9e32f44858990bd5405dbee90c"
          }
        },
        "6a40f9b2ed774111b2c75bb746225d23": {
          "model_module": "@jupyter-widgets/controls",
          "model_name": "HTMLModel",
          "model_module_version": "1.5.0",
          "state": {
            "_dom_classes": [],
            "_model_module": "@jupyter-widgets/controls",
            "_model_module_version": "1.5.0",
            "_model_name": "HTMLModel",
            "_view_count": null,
            "_view_module": "@jupyter-widgets/controls",
            "_view_module_version": "1.5.0",
            "_view_name": "HTMLView",
            "description": "",
            "description_tooltip": null,
            "layout": "IPY_MODEL_986e035eece6441cb51fb3ad5060dc8d",
            "placeholder": "​",
            "style": "IPY_MODEL_ea12d12399b94aceba257afd4b622cb6",
            "value": "tokenizer.json: 100%"
          }
        },
        "6145f19e2db54ef88075d768536d225c": {
          "model_module": "@jupyter-widgets/controls",
          "model_name": "FloatProgressModel",
          "model_module_version": "1.5.0",
          "state": {
            "_dom_classes": [],
            "_model_module": "@jupyter-widgets/controls",
            "_model_module_version": "1.5.0",
            "_model_name": "FloatProgressModel",
            "_view_count": null,
            "_view_module": "@jupyter-widgets/controls",
            "_view_module_version": "1.5.0",
            "_view_name": "ProgressView",
            "bar_style": "success",
            "description": "",
            "description_tooltip": null,
            "layout": "IPY_MODEL_fe688de91cf7469eb1d20426ceb25923",
            "max": 17082756,
            "min": 0,
            "orientation": "horizontal",
            "style": "IPY_MODEL_c3344b8f3188417b82ea3ec0636b7043",
            "value": 17082756
          }
        },
        "d26efabadf0448f1954ae78894ada510": {
          "model_module": "@jupyter-widgets/controls",
          "model_name": "HTMLModel",
          "model_module_version": "1.5.0",
          "state": {
            "_dom_classes": [],
            "_model_module": "@jupyter-widgets/controls",
            "_model_module_version": "1.5.0",
            "_model_name": "HTMLModel",
            "_view_count": null,
            "_view_module": "@jupyter-widgets/controls",
            "_view_module_version": "1.5.0",
            "_view_name": "HTMLView",
            "description": "",
            "description_tooltip": null,
            "layout": "IPY_MODEL_579dd0345d464d878684dc066bcc1366",
            "placeholder": "​",
            "style": "IPY_MODEL_6139f45b5a394fe7b6716f1eb509f501",
            "value": " 17.1M/17.1M [00:00&lt;00:00, 51.7MB/s]"
          }
        },
        "a278de9e32f44858990bd5405dbee90c": {
          "model_module": "@jupyter-widgets/base",
          "model_name": "LayoutModel",
          "model_module_version": "1.2.0",
          "state": {
            "_model_module": "@jupyter-widgets/base",
            "_model_module_version": "1.2.0",
            "_model_name": "LayoutModel",
            "_view_count": null,
            "_view_module": "@jupyter-widgets/base",
            "_view_module_version": "1.2.0",
            "_view_name": "LayoutView",
            "align_content": null,
            "align_items": null,
            "align_self": null,
            "border": null,
            "bottom": null,
            "display": null,
            "flex": null,
            "flex_flow": null,
            "grid_area": null,
            "grid_auto_columns": null,
            "grid_auto_flow": null,
            "grid_auto_rows": null,
            "grid_column": null,
            "grid_gap": null,
            "grid_row": null,
            "grid_template_areas": null,
            "grid_template_columns": null,
            "grid_template_rows": null,
            "height": null,
            "justify_content": null,
            "justify_items": null,
            "left": null,
            "margin": null,
            "max_height": null,
            "max_width": null,
            "min_height": null,
            "min_width": null,
            "object_fit": null,
            "object_position": null,
            "order": null,
            "overflow": null,
            "overflow_x": null,
            "overflow_y": null,
            "padding": null,
            "right": null,
            "top": null,
            "visibility": null,
            "width": null
          }
        },
        "986e035eece6441cb51fb3ad5060dc8d": {
          "model_module": "@jupyter-widgets/base",
          "model_name": "LayoutModel",
          "model_module_version": "1.2.0",
          "state": {
            "_model_module": "@jupyter-widgets/base",
            "_model_module_version": "1.2.0",
            "_model_name": "LayoutModel",
            "_view_count": null,
            "_view_module": "@jupyter-widgets/base",
            "_view_module_version": "1.2.0",
            "_view_name": "LayoutView",
            "align_content": null,
            "align_items": null,
            "align_self": null,
            "border": null,
            "bottom": null,
            "display": null,
            "flex": null,
            "flex_flow": null,
            "grid_area": null,
            "grid_auto_columns": null,
            "grid_auto_flow": null,
            "grid_auto_rows": null,
            "grid_column": null,
            "grid_gap": null,
            "grid_row": null,
            "grid_template_areas": null,
            "grid_template_columns": null,
            "grid_template_rows": null,
            "height": null,
            "justify_content": null,
            "justify_items": null,
            "left": null,
            "margin": null,
            "max_height": null,
            "max_width": null,
            "min_height": null,
            "min_width": null,
            "object_fit": null,
            "object_position": null,
            "order": null,
            "overflow": null,
            "overflow_x": null,
            "overflow_y": null,
            "padding": null,
            "right": null,
            "top": null,
            "visibility": null,
            "width": null
          }
        },
        "ea12d12399b94aceba257afd4b622cb6": {
          "model_module": "@jupyter-widgets/controls",
          "model_name": "DescriptionStyleModel",
          "model_module_version": "1.5.0",
          "state": {
            "_model_module": "@jupyter-widgets/controls",
            "_model_module_version": "1.5.0",
            "_model_name": "DescriptionStyleModel",
            "_view_count": null,
            "_view_module": "@jupyter-widgets/base",
            "_view_module_version": "1.2.0",
            "_view_name": "StyleView",
            "description_width": ""
          }
        },
        "fe688de91cf7469eb1d20426ceb25923": {
          "model_module": "@jupyter-widgets/base",
          "model_name": "LayoutModel",
          "model_module_version": "1.2.0",
          "state": {
            "_model_module": "@jupyter-widgets/base",
            "_model_module_version": "1.2.0",
            "_model_name": "LayoutModel",
            "_view_count": null,
            "_view_module": "@jupyter-widgets/base",
            "_view_module_version": "1.2.0",
            "_view_name": "LayoutView",
            "align_content": null,
            "align_items": null,
            "align_self": null,
            "border": null,
            "bottom": null,
            "display": null,
            "flex": null,
            "flex_flow": null,
            "grid_area": null,
            "grid_auto_columns": null,
            "grid_auto_flow": null,
            "grid_auto_rows": null,
            "grid_column": null,
            "grid_gap": null,
            "grid_row": null,
            "grid_template_areas": null,
            "grid_template_columns": null,
            "grid_template_rows": null,
            "height": null,
            "justify_content": null,
            "justify_items": null,
            "left": null,
            "margin": null,
            "max_height": null,
            "max_width": null,
            "min_height": null,
            "min_width": null,
            "object_fit": null,
            "object_position": null,
            "order": null,
            "overflow": null,
            "overflow_x": null,
            "overflow_y": null,
            "padding": null,
            "right": null,
            "top": null,
            "visibility": null,
            "width": null
          }
        },
        "c3344b8f3188417b82ea3ec0636b7043": {
          "model_module": "@jupyter-widgets/controls",
          "model_name": "ProgressStyleModel",
          "model_module_version": "1.5.0",
          "state": {
            "_model_module": "@jupyter-widgets/controls",
            "_model_module_version": "1.5.0",
            "_model_name": "ProgressStyleModel",
            "_view_count": null,
            "_view_module": "@jupyter-widgets/base",
            "_view_module_version": "1.2.0",
            "_view_name": "StyleView",
            "bar_color": null,
            "description_width": ""
          }
        },
        "579dd0345d464d878684dc066bcc1366": {
          "model_module": "@jupyter-widgets/base",
          "model_name": "LayoutModel",
          "model_module_version": "1.2.0",
          "state": {
            "_model_module": "@jupyter-widgets/base",
            "_model_module_version": "1.2.0",
            "_model_name": "LayoutModel",
            "_view_count": null,
            "_view_module": "@jupyter-widgets/base",
            "_view_module_version": "1.2.0",
            "_view_name": "LayoutView",
            "align_content": null,
            "align_items": null,
            "align_self": null,
            "border": null,
            "bottom": null,
            "display": null,
            "flex": null,
            "flex_flow": null,
            "grid_area": null,
            "grid_auto_columns": null,
            "grid_auto_flow": null,
            "grid_auto_rows": null,
            "grid_column": null,
            "grid_gap": null,
            "grid_row": null,
            "grid_template_areas": null,
            "grid_template_columns": null,
            "grid_template_rows": null,
            "height": null,
            "justify_content": null,
            "justify_items": null,
            "left": null,
            "margin": null,
            "max_height": null,
            "max_width": null,
            "min_height": null,
            "min_width": null,
            "object_fit": null,
            "object_position": null,
            "order": null,
            "overflow": null,
            "overflow_x": null,
            "overflow_y": null,
            "padding": null,
            "right": null,
            "top": null,
            "visibility": null,
            "width": null
          }
        },
        "6139f45b5a394fe7b6716f1eb509f501": {
          "model_module": "@jupyter-widgets/controls",
          "model_name": "DescriptionStyleModel",
          "model_module_version": "1.5.0",
          "state": {
            "_model_module": "@jupyter-widgets/controls",
            "_model_module_version": "1.5.0",
            "_model_name": "DescriptionStyleModel",
            "_view_count": null,
            "_view_module": "@jupyter-widgets/base",
            "_view_module_version": "1.2.0",
            "_view_name": "StyleView",
            "description_width": ""
          }
        },
        "75788db5f3e34b8f9d99dc21b3e260e6": {
          "model_module": "@jupyter-widgets/controls",
          "model_name": "HBoxModel",
          "model_module_version": "1.5.0",
          "state": {
            "_dom_classes": [],
            "_model_module": "@jupyter-widgets/controls",
            "_model_module_version": "1.5.0",
            "_model_name": "HBoxModel",
            "_view_count": null,
            "_view_module": "@jupyter-widgets/controls",
            "_view_module_version": "1.5.0",
            "_view_name": "HBoxView",
            "box_style": "",
            "children": [
              "IPY_MODEL_bf6454ec784a4d4e85da381890631b1d",
              "IPY_MODEL_329bd838db114e0fb77d1fbb4c663184",
              "IPY_MODEL_c554ff8e0a534a85b73fa6fa1a858537"
            ],
            "layout": "IPY_MODEL_40c38f7a76004ae2bff2f5186bceef77"
          }
        },
        "bf6454ec784a4d4e85da381890631b1d": {
          "model_module": "@jupyter-widgets/controls",
          "model_name": "HTMLModel",
          "model_module_version": "1.5.0",
          "state": {
            "_dom_classes": [],
            "_model_module": "@jupyter-widgets/controls",
            "_model_module_version": "1.5.0",
            "_model_name": "HTMLModel",
            "_view_count": null,
            "_view_module": "@jupyter-widgets/controls",
            "_view_module_version": "1.5.0",
            "_view_name": "HTMLView",
            "description": "",
            "description_tooltip": null,
            "layout": "IPY_MODEL_0c3bc100c76a4c589f974ee8da5e5cbe",
            "placeholder": "​",
            "style": "IPY_MODEL_c97340e11a48425eb4b5a2eb98fe7f4b",
            "value": "special_tokens_map.json: 100%"
          }
        },
        "329bd838db114e0fb77d1fbb4c663184": {
          "model_module": "@jupyter-widgets/controls",
          "model_name": "FloatProgressModel",
          "model_module_version": "1.5.0",
          "state": {
            "_dom_classes": [],
            "_model_module": "@jupyter-widgets/controls",
            "_model_module_version": "1.5.0",
            "_model_name": "FloatProgressModel",
            "_view_count": null,
            "_view_module": "@jupyter-widgets/controls",
            "_view_module_version": "1.5.0",
            "_view_name": "ProgressView",
            "bar_style": "success",
            "description": "",
            "description_tooltip": null,
            "layout": "IPY_MODEL_2fd15a3e53e14db9957db162ba1a293d",
            "max": 964,
            "min": 0,
            "orientation": "horizontal",
            "style": "IPY_MODEL_f0c74ec4e22a47eeaa8c2862324090d0",
            "value": 964
          }
        },
        "c554ff8e0a534a85b73fa6fa1a858537": {
          "model_module": "@jupyter-widgets/controls",
          "model_name": "HTMLModel",
          "model_module_version": "1.5.0",
          "state": {
            "_dom_classes": [],
            "_model_module": "@jupyter-widgets/controls",
            "_model_module_version": "1.5.0",
            "_model_name": "HTMLModel",
            "_view_count": null,
            "_view_module": "@jupyter-widgets/controls",
            "_view_module_version": "1.5.0",
            "_view_name": "HTMLView",
            "description": "",
            "description_tooltip": null,
            "layout": "IPY_MODEL_65b20cebe85b468e85b9059dc1018ff9",
            "placeholder": "​",
            "style": "IPY_MODEL_16ca9736a491410081fafc45782b4303",
            "value": " 964/964 [00:00&lt;00:00, 19.0kB/s]"
          }
        },
        "40c38f7a76004ae2bff2f5186bceef77": {
          "model_module": "@jupyter-widgets/base",
          "model_name": "LayoutModel",
          "model_module_version": "1.2.0",
          "state": {
            "_model_module": "@jupyter-widgets/base",
            "_model_module_version": "1.2.0",
            "_model_name": "LayoutModel",
            "_view_count": null,
            "_view_module": "@jupyter-widgets/base",
            "_view_module_version": "1.2.0",
            "_view_name": "LayoutView",
            "align_content": null,
            "align_items": null,
            "align_self": null,
            "border": null,
            "bottom": null,
            "display": null,
            "flex": null,
            "flex_flow": null,
            "grid_area": null,
            "grid_auto_columns": null,
            "grid_auto_flow": null,
            "grid_auto_rows": null,
            "grid_column": null,
            "grid_gap": null,
            "grid_row": null,
            "grid_template_areas": null,
            "grid_template_columns": null,
            "grid_template_rows": null,
            "height": null,
            "justify_content": null,
            "justify_items": null,
            "left": null,
            "margin": null,
            "max_height": null,
            "max_width": null,
            "min_height": null,
            "min_width": null,
            "object_fit": null,
            "object_position": null,
            "order": null,
            "overflow": null,
            "overflow_x": null,
            "overflow_y": null,
            "padding": null,
            "right": null,
            "top": null,
            "visibility": null,
            "width": null
          }
        },
        "0c3bc100c76a4c589f974ee8da5e5cbe": {
          "model_module": "@jupyter-widgets/base",
          "model_name": "LayoutModel",
          "model_module_version": "1.2.0",
          "state": {
            "_model_module": "@jupyter-widgets/base",
            "_model_module_version": "1.2.0",
            "_model_name": "LayoutModel",
            "_view_count": null,
            "_view_module": "@jupyter-widgets/base",
            "_view_module_version": "1.2.0",
            "_view_name": "LayoutView",
            "align_content": null,
            "align_items": null,
            "align_self": null,
            "border": null,
            "bottom": null,
            "display": null,
            "flex": null,
            "flex_flow": null,
            "grid_area": null,
            "grid_auto_columns": null,
            "grid_auto_flow": null,
            "grid_auto_rows": null,
            "grid_column": null,
            "grid_gap": null,
            "grid_row": null,
            "grid_template_areas": null,
            "grid_template_columns": null,
            "grid_template_rows": null,
            "height": null,
            "justify_content": null,
            "justify_items": null,
            "left": null,
            "margin": null,
            "max_height": null,
            "max_width": null,
            "min_height": null,
            "min_width": null,
            "object_fit": null,
            "object_position": null,
            "order": null,
            "overflow": null,
            "overflow_x": null,
            "overflow_y": null,
            "padding": null,
            "right": null,
            "top": null,
            "visibility": null,
            "width": null
          }
        },
        "c97340e11a48425eb4b5a2eb98fe7f4b": {
          "model_module": "@jupyter-widgets/controls",
          "model_name": "DescriptionStyleModel",
          "model_module_version": "1.5.0",
          "state": {
            "_model_module": "@jupyter-widgets/controls",
            "_model_module_version": "1.5.0",
            "_model_name": "DescriptionStyleModel",
            "_view_count": null,
            "_view_module": "@jupyter-widgets/base",
            "_view_module_version": "1.2.0",
            "_view_name": "StyleView",
            "description_width": ""
          }
        },
        "2fd15a3e53e14db9957db162ba1a293d": {
          "model_module": "@jupyter-widgets/base",
          "model_name": "LayoutModel",
          "model_module_version": "1.2.0",
          "state": {
            "_model_module": "@jupyter-widgets/base",
            "_model_module_version": "1.2.0",
            "_model_name": "LayoutModel",
            "_view_count": null,
            "_view_module": "@jupyter-widgets/base",
            "_view_module_version": "1.2.0",
            "_view_name": "LayoutView",
            "align_content": null,
            "align_items": null,
            "align_self": null,
            "border": null,
            "bottom": null,
            "display": null,
            "flex": null,
            "flex_flow": null,
            "grid_area": null,
            "grid_auto_columns": null,
            "grid_auto_flow": null,
            "grid_auto_rows": null,
            "grid_column": null,
            "grid_gap": null,
            "grid_row": null,
            "grid_template_areas": null,
            "grid_template_columns": null,
            "grid_template_rows": null,
            "height": null,
            "justify_content": null,
            "justify_items": null,
            "left": null,
            "margin": null,
            "max_height": null,
            "max_width": null,
            "min_height": null,
            "min_width": null,
            "object_fit": null,
            "object_position": null,
            "order": null,
            "overflow": null,
            "overflow_x": null,
            "overflow_y": null,
            "padding": null,
            "right": null,
            "top": null,
            "visibility": null,
            "width": null
          }
        },
        "f0c74ec4e22a47eeaa8c2862324090d0": {
          "model_module": "@jupyter-widgets/controls",
          "model_name": "ProgressStyleModel",
          "model_module_version": "1.5.0",
          "state": {
            "_model_module": "@jupyter-widgets/controls",
            "_model_module_version": "1.5.0",
            "_model_name": "ProgressStyleModel",
            "_view_count": null,
            "_view_module": "@jupyter-widgets/base",
            "_view_module_version": "1.2.0",
            "_view_name": "StyleView",
            "bar_color": null,
            "description_width": ""
          }
        },
        "65b20cebe85b468e85b9059dc1018ff9": {
          "model_module": "@jupyter-widgets/base",
          "model_name": "LayoutModel",
          "model_module_version": "1.2.0",
          "state": {
            "_model_module": "@jupyter-widgets/base",
            "_model_module_version": "1.2.0",
            "_model_name": "LayoutModel",
            "_view_count": null,
            "_view_module": "@jupyter-widgets/base",
            "_view_module_version": "1.2.0",
            "_view_name": "LayoutView",
            "align_content": null,
            "align_items": null,
            "align_self": null,
            "border": null,
            "bottom": null,
            "display": null,
            "flex": null,
            "flex_flow": null,
            "grid_area": null,
            "grid_auto_columns": null,
            "grid_auto_flow": null,
            "grid_auto_rows": null,
            "grid_column": null,
            "grid_gap": null,
            "grid_row": null,
            "grid_template_areas": null,
            "grid_template_columns": null,
            "grid_template_rows": null,
            "height": null,
            "justify_content": null,
            "justify_items": null,
            "left": null,
            "margin": null,
            "max_height": null,
            "max_width": null,
            "min_height": null,
            "min_width": null,
            "object_fit": null,
            "object_position": null,
            "order": null,
            "overflow": null,
            "overflow_x": null,
            "overflow_y": null,
            "padding": null,
            "right": null,
            "top": null,
            "visibility": null,
            "width": null
          }
        },
        "16ca9736a491410081fafc45782b4303": {
          "model_module": "@jupyter-widgets/controls",
          "model_name": "DescriptionStyleModel",
          "model_module_version": "1.5.0",
          "state": {
            "_model_module": "@jupyter-widgets/controls",
            "_model_module_version": "1.5.0",
            "_model_name": "DescriptionStyleModel",
            "_view_count": null,
            "_view_module": "@jupyter-widgets/base",
            "_view_module_version": "1.2.0",
            "_view_name": "StyleView",
            "description_width": ""
          }
        },
        "c27f269cb1c14c13aedefe52e3edb419": {
          "model_module": "@jupyter-widgets/controls",
          "model_name": "HBoxModel",
          "model_module_version": "1.5.0",
          "state": {
            "_dom_classes": [],
            "_model_module": "@jupyter-widgets/controls",
            "_model_module_version": "1.5.0",
            "_model_name": "HBoxModel",
            "_view_count": null,
            "_view_module": "@jupyter-widgets/controls",
            "_view_module_version": "1.5.0",
            "_view_name": "HBoxView",
            "box_style": "",
            "children": [
              "IPY_MODEL_5cf75887f0084b9c82d5e7cf92508926",
              "IPY_MODEL_b454276389804fcc92e878e9f3aa0c5b",
              "IPY_MODEL_2856df6e1d9f465980eb17d14409b1ee"
            ],
            "layout": "IPY_MODEL_048871a4b4914895bb32d7ff73e66098"
          }
        },
        "5cf75887f0084b9c82d5e7cf92508926": {
          "model_module": "@jupyter-widgets/controls",
          "model_name": "HTMLModel",
          "model_module_version": "1.5.0",
          "state": {
            "_dom_classes": [],
            "_model_module": "@jupyter-widgets/controls",
            "_model_module_version": "1.5.0",
            "_model_name": "HTMLModel",
            "_view_count": null,
            "_view_module": "@jupyter-widgets/controls",
            "_view_module_version": "1.5.0",
            "_view_name": "HTMLView",
            "description": "",
            "description_tooltip": null,
            "layout": "IPY_MODEL_1a6cbf04f16340b09d83fe24a259675e",
            "placeholder": "​",
            "style": "IPY_MODEL_81da519cde2b45acafc8139b688fc57b",
            "value": "1_Pooling/config.json: 100%"
          }
        },
        "b454276389804fcc92e878e9f3aa0c5b": {
          "model_module": "@jupyter-widgets/controls",
          "model_name": "FloatProgressModel",
          "model_module_version": "1.5.0",
          "state": {
            "_dom_classes": [],
            "_model_module": "@jupyter-widgets/controls",
            "_model_module_version": "1.5.0",
            "_model_name": "FloatProgressModel",
            "_view_count": null,
            "_view_module": "@jupyter-widgets/controls",
            "_view_module_version": "1.5.0",
            "_view_name": "ProgressView",
            "bar_style": "success",
            "description": "",
            "description_tooltip": null,
            "layout": "IPY_MODEL_c13e2c6d6d904a4ba904b730af49eccc",
            "max": 271,
            "min": 0,
            "orientation": "horizontal",
            "style": "IPY_MODEL_a07b8f9150414e7d8415d8ce932dedaa",
            "value": 271
          }
        },
        "2856df6e1d9f465980eb17d14409b1ee": {
          "model_module": "@jupyter-widgets/controls",
          "model_name": "HTMLModel",
          "model_module_version": "1.5.0",
          "state": {
            "_dom_classes": [],
            "_model_module": "@jupyter-widgets/controls",
            "_model_module_version": "1.5.0",
            "_model_name": "HTMLModel",
            "_view_count": null,
            "_view_module": "@jupyter-widgets/controls",
            "_view_module_version": "1.5.0",
            "_view_name": "HTMLView",
            "description": "",
            "description_tooltip": null,
            "layout": "IPY_MODEL_34f2f41ce3b64ca194cf9823e95573fa",
            "placeholder": "​",
            "style": "IPY_MODEL_7fd4392aae1c4c1882b4241a25b52417",
            "value": " 271/271 [00:00&lt;00:00, 6.17kB/s]"
          }
        },
        "048871a4b4914895bb32d7ff73e66098": {
          "model_module": "@jupyter-widgets/base",
          "model_name": "LayoutModel",
          "model_module_version": "1.2.0",
          "state": {
            "_model_module": "@jupyter-widgets/base",
            "_model_module_version": "1.2.0",
            "_model_name": "LayoutModel",
            "_view_count": null,
            "_view_module": "@jupyter-widgets/base",
            "_view_module_version": "1.2.0",
            "_view_name": "LayoutView",
            "align_content": null,
            "align_items": null,
            "align_self": null,
            "border": null,
            "bottom": null,
            "display": null,
            "flex": null,
            "flex_flow": null,
            "grid_area": null,
            "grid_auto_columns": null,
            "grid_auto_flow": null,
            "grid_auto_rows": null,
            "grid_column": null,
            "grid_gap": null,
            "grid_row": null,
            "grid_template_areas": null,
            "grid_template_columns": null,
            "grid_template_rows": null,
            "height": null,
            "justify_content": null,
            "justify_items": null,
            "left": null,
            "margin": null,
            "max_height": null,
            "max_width": null,
            "min_height": null,
            "min_width": null,
            "object_fit": null,
            "object_position": null,
            "order": null,
            "overflow": null,
            "overflow_x": null,
            "overflow_y": null,
            "padding": null,
            "right": null,
            "top": null,
            "visibility": null,
            "width": null
          }
        },
        "1a6cbf04f16340b09d83fe24a259675e": {
          "model_module": "@jupyter-widgets/base",
          "model_name": "LayoutModel",
          "model_module_version": "1.2.0",
          "state": {
            "_model_module": "@jupyter-widgets/base",
            "_model_module_version": "1.2.0",
            "_model_name": "LayoutModel",
            "_view_count": null,
            "_view_module": "@jupyter-widgets/base",
            "_view_module_version": "1.2.0",
            "_view_name": "LayoutView",
            "align_content": null,
            "align_items": null,
            "align_self": null,
            "border": null,
            "bottom": null,
            "display": null,
            "flex": null,
            "flex_flow": null,
            "grid_area": null,
            "grid_auto_columns": null,
            "grid_auto_flow": null,
            "grid_auto_rows": null,
            "grid_column": null,
            "grid_gap": null,
            "grid_row": null,
            "grid_template_areas": null,
            "grid_template_columns": null,
            "grid_template_rows": null,
            "height": null,
            "justify_content": null,
            "justify_items": null,
            "left": null,
            "margin": null,
            "max_height": null,
            "max_width": null,
            "min_height": null,
            "min_width": null,
            "object_fit": null,
            "object_position": null,
            "order": null,
            "overflow": null,
            "overflow_x": null,
            "overflow_y": null,
            "padding": null,
            "right": null,
            "top": null,
            "visibility": null,
            "width": null
          }
        },
        "81da519cde2b45acafc8139b688fc57b": {
          "model_module": "@jupyter-widgets/controls",
          "model_name": "DescriptionStyleModel",
          "model_module_version": "1.5.0",
          "state": {
            "_model_module": "@jupyter-widgets/controls",
            "_model_module_version": "1.5.0",
            "_model_name": "DescriptionStyleModel",
            "_view_count": null,
            "_view_module": "@jupyter-widgets/base",
            "_view_module_version": "1.2.0",
            "_view_name": "StyleView",
            "description_width": ""
          }
        },
        "c13e2c6d6d904a4ba904b730af49eccc": {
          "model_module": "@jupyter-widgets/base",
          "model_name": "LayoutModel",
          "model_module_version": "1.2.0",
          "state": {
            "_model_module": "@jupyter-widgets/base",
            "_model_module_version": "1.2.0",
            "_model_name": "LayoutModel",
            "_view_count": null,
            "_view_module": "@jupyter-widgets/base",
            "_view_module_version": "1.2.0",
            "_view_name": "LayoutView",
            "align_content": null,
            "align_items": null,
            "align_self": null,
            "border": null,
            "bottom": null,
            "display": null,
            "flex": null,
            "flex_flow": null,
            "grid_area": null,
            "grid_auto_columns": null,
            "grid_auto_flow": null,
            "grid_auto_rows": null,
            "grid_column": null,
            "grid_gap": null,
            "grid_row": null,
            "grid_template_areas": null,
            "grid_template_columns": null,
            "grid_template_rows": null,
            "height": null,
            "justify_content": null,
            "justify_items": null,
            "left": null,
            "margin": null,
            "max_height": null,
            "max_width": null,
            "min_height": null,
            "min_width": null,
            "object_fit": null,
            "object_position": null,
            "order": null,
            "overflow": null,
            "overflow_x": null,
            "overflow_y": null,
            "padding": null,
            "right": null,
            "top": null,
            "visibility": null,
            "width": null
          }
        },
        "a07b8f9150414e7d8415d8ce932dedaa": {
          "model_module": "@jupyter-widgets/controls",
          "model_name": "ProgressStyleModel",
          "model_module_version": "1.5.0",
          "state": {
            "_model_module": "@jupyter-widgets/controls",
            "_model_module_version": "1.5.0",
            "_model_name": "ProgressStyleModel",
            "_view_count": null,
            "_view_module": "@jupyter-widgets/base",
            "_view_module_version": "1.2.0",
            "_view_name": "StyleView",
            "bar_color": null,
            "description_width": ""
          }
        },
        "34f2f41ce3b64ca194cf9823e95573fa": {
          "model_module": "@jupyter-widgets/base",
          "model_name": "LayoutModel",
          "model_module_version": "1.2.0",
          "state": {
            "_model_module": "@jupyter-widgets/base",
            "_model_module_version": "1.2.0",
            "_model_name": "LayoutModel",
            "_view_count": null,
            "_view_module": "@jupyter-widgets/base",
            "_view_module_version": "1.2.0",
            "_view_name": "LayoutView",
            "align_content": null,
            "align_items": null,
            "align_self": null,
            "border": null,
            "bottom": null,
            "display": null,
            "flex": null,
            "flex_flow": null,
            "grid_area": null,
            "grid_auto_columns": null,
            "grid_auto_flow": null,
            "grid_auto_rows": null,
            "grid_column": null,
            "grid_gap": null,
            "grid_row": null,
            "grid_template_areas": null,
            "grid_template_columns": null,
            "grid_template_rows": null,
            "height": null,
            "justify_content": null,
            "justify_items": null,
            "left": null,
            "margin": null,
            "max_height": null,
            "max_width": null,
            "min_height": null,
            "min_width": null,
            "object_fit": null,
            "object_position": null,
            "order": null,
            "overflow": null,
            "overflow_x": null,
            "overflow_y": null,
            "padding": null,
            "right": null,
            "top": null,
            "visibility": null,
            "width": null
          }
        },
        "7fd4392aae1c4c1882b4241a25b52417": {
          "model_module": "@jupyter-widgets/controls",
          "model_name": "DescriptionStyleModel",
          "model_module_version": "1.5.0",
          "state": {
            "_model_module": "@jupyter-widgets/controls",
            "_model_module_version": "1.5.0",
            "_model_name": "DescriptionStyleModel",
            "_view_count": null,
            "_view_module": "@jupyter-widgets/base",
            "_view_module_version": "1.2.0",
            "_view_name": "StyleView",
            "description_width": ""
          }
        }
      }
    }
  },
  "cells": [
    {
      "cell_type": "code",
      "source": [
        "!pip install sentence-transformers"
      ],
      "metadata": {
        "colab": {
          "base_uri": "https://localhost:8080/"
        },
        "id": "H-hnHtryZ7gB",
        "outputId": "b5828ce3-0657-499a-dc5e-ecaabde18d96"
      },
      "execution_count": null,
      "outputs": [
        {
          "output_type": "stream",
          "name": "stdout",
          "text": [
            "Collecting sentence-transformers\n",
            "  Downloading sentence_transformers-3.0.1-py3-none-any.whl (227 kB)\n",
            "\u001b[2K     \u001b[90m━━━━━━━━━━━━━━━━━━━━━━━━━━━━━━━━━━━━━━━━\u001b[0m \u001b[32m227.1/227.1 kB\u001b[0m \u001b[31m3.5 MB/s\u001b[0m eta \u001b[36m0:00:00\u001b[0m\n",
            "\u001b[?25hRequirement already satisfied: transformers<5.0.0,>=4.34.0 in /usr/local/lib/python3.10/dist-packages (from sentence-transformers) (4.41.2)\n",
            "Requirement already satisfied: tqdm in /usr/local/lib/python3.10/dist-packages (from sentence-transformers) (4.66.4)\n",
            "Requirement already satisfied: torch>=1.11.0 in /usr/local/lib/python3.10/dist-packages (from sentence-transformers) (2.3.0+cu121)\n",
            "Requirement already satisfied: numpy in /usr/local/lib/python3.10/dist-packages (from sentence-transformers) (1.25.2)\n",
            "Requirement already satisfied: scikit-learn in /usr/local/lib/python3.10/dist-packages (from sentence-transformers) (1.2.2)\n",
            "Requirement already satisfied: scipy in /usr/local/lib/python3.10/dist-packages (from sentence-transformers) (1.11.4)\n",
            "Requirement already satisfied: huggingface-hub>=0.15.1 in /usr/local/lib/python3.10/dist-packages (from sentence-transformers) (0.23.4)\n",
            "Requirement already satisfied: Pillow in /usr/local/lib/python3.10/dist-packages (from sentence-transformers) (9.4.0)\n",
            "Requirement already satisfied: filelock in /usr/local/lib/python3.10/dist-packages (from huggingface-hub>=0.15.1->sentence-transformers) (3.15.4)\n",
            "Requirement already satisfied: fsspec>=2023.5.0 in /usr/local/lib/python3.10/dist-packages (from huggingface-hub>=0.15.1->sentence-transformers) (2023.6.0)\n",
            "Requirement already satisfied: packaging>=20.9 in /usr/local/lib/python3.10/dist-packages (from huggingface-hub>=0.15.1->sentence-transformers) (24.1)\n",
            "Requirement already satisfied: pyyaml>=5.1 in /usr/local/lib/python3.10/dist-packages (from huggingface-hub>=0.15.1->sentence-transformers) (6.0.1)\n",
            "Requirement already satisfied: requests in /usr/local/lib/python3.10/dist-packages (from huggingface-hub>=0.15.1->sentence-transformers) (2.31.0)\n",
            "Requirement already satisfied: typing-extensions>=3.7.4.3 in /usr/local/lib/python3.10/dist-packages (from huggingface-hub>=0.15.1->sentence-transformers) (4.12.2)\n",
            "Requirement already satisfied: sympy in /usr/local/lib/python3.10/dist-packages (from torch>=1.11.0->sentence-transformers) (1.12.1)\n",
            "Requirement already satisfied: networkx in /usr/local/lib/python3.10/dist-packages (from torch>=1.11.0->sentence-transformers) (3.3)\n",
            "Requirement already satisfied: jinja2 in /usr/local/lib/python3.10/dist-packages (from torch>=1.11.0->sentence-transformers) (3.1.4)\n",
            "Collecting nvidia-cuda-nvrtc-cu12==12.1.105 (from torch>=1.11.0->sentence-transformers)\n",
            "  Using cached nvidia_cuda_nvrtc_cu12-12.1.105-py3-none-manylinux1_x86_64.whl (23.7 MB)\n",
            "Collecting nvidia-cuda-runtime-cu12==12.1.105 (from torch>=1.11.0->sentence-transformers)\n",
            "  Using cached nvidia_cuda_runtime_cu12-12.1.105-py3-none-manylinux1_x86_64.whl (823 kB)\n",
            "Collecting nvidia-cuda-cupti-cu12==12.1.105 (from torch>=1.11.0->sentence-transformers)\n",
            "  Using cached nvidia_cuda_cupti_cu12-12.1.105-py3-none-manylinux1_x86_64.whl (14.1 MB)\n",
            "Collecting nvidia-cudnn-cu12==8.9.2.26 (from torch>=1.11.0->sentence-transformers)\n",
            "  Using cached nvidia_cudnn_cu12-8.9.2.26-py3-none-manylinux1_x86_64.whl (731.7 MB)\n",
            "Collecting nvidia-cublas-cu12==12.1.3.1 (from torch>=1.11.0->sentence-transformers)\n",
            "  Using cached nvidia_cublas_cu12-12.1.3.1-py3-none-manylinux1_x86_64.whl (410.6 MB)\n",
            "Collecting nvidia-cufft-cu12==11.0.2.54 (from torch>=1.11.0->sentence-transformers)\n",
            "  Using cached nvidia_cufft_cu12-11.0.2.54-py3-none-manylinux1_x86_64.whl (121.6 MB)\n",
            "Collecting nvidia-curand-cu12==10.3.2.106 (from torch>=1.11.0->sentence-transformers)\n",
            "  Using cached nvidia_curand_cu12-10.3.2.106-py3-none-manylinux1_x86_64.whl (56.5 MB)\n",
            "Collecting nvidia-cusolver-cu12==11.4.5.107 (from torch>=1.11.0->sentence-transformers)\n",
            "  Using cached nvidia_cusolver_cu12-11.4.5.107-py3-none-manylinux1_x86_64.whl (124.2 MB)\n",
            "Collecting nvidia-cusparse-cu12==12.1.0.106 (from torch>=1.11.0->sentence-transformers)\n",
            "  Using cached nvidia_cusparse_cu12-12.1.0.106-py3-none-manylinux1_x86_64.whl (196.0 MB)\n",
            "Collecting nvidia-nccl-cu12==2.20.5 (from torch>=1.11.0->sentence-transformers)\n",
            "  Using cached nvidia_nccl_cu12-2.20.5-py3-none-manylinux2014_x86_64.whl (176.2 MB)\n",
            "Collecting nvidia-nvtx-cu12==12.1.105 (from torch>=1.11.0->sentence-transformers)\n",
            "  Using cached nvidia_nvtx_cu12-12.1.105-py3-none-manylinux1_x86_64.whl (99 kB)\n",
            "Requirement already satisfied: triton==2.3.0 in /usr/local/lib/python3.10/dist-packages (from torch>=1.11.0->sentence-transformers) (2.3.0)\n",
            "Collecting nvidia-nvjitlink-cu12 (from nvidia-cusolver-cu12==11.4.5.107->torch>=1.11.0->sentence-transformers)\n",
            "  Downloading nvidia_nvjitlink_cu12-12.5.82-py3-none-manylinux2014_x86_64.whl (21.3 MB)\n",
            "\u001b[2K     \u001b[90m━━━━━━━━━━━━━━━━━━━━━━━━━━━━━━━━━━━━━━━━\u001b[0m \u001b[32m21.3/21.3 MB\u001b[0m \u001b[31m69.3 MB/s\u001b[0m eta \u001b[36m0:00:00\u001b[0m\n",
            "\u001b[?25hRequirement already satisfied: regex!=2019.12.17 in /usr/local/lib/python3.10/dist-packages (from transformers<5.0.0,>=4.34.0->sentence-transformers) (2024.5.15)\n",
            "Requirement already satisfied: tokenizers<0.20,>=0.19 in /usr/local/lib/python3.10/dist-packages (from transformers<5.0.0,>=4.34.0->sentence-transformers) (0.19.1)\n",
            "Requirement already satisfied: safetensors>=0.4.1 in /usr/local/lib/python3.10/dist-packages (from transformers<5.0.0,>=4.34.0->sentence-transformers) (0.4.3)\n",
            "Requirement already satisfied: joblib>=1.1.1 in /usr/local/lib/python3.10/dist-packages (from scikit-learn->sentence-transformers) (1.4.2)\n",
            "Requirement already satisfied: threadpoolctl>=2.0.0 in /usr/local/lib/python3.10/dist-packages (from scikit-learn->sentence-transformers) (3.5.0)\n",
            "Requirement already satisfied: MarkupSafe>=2.0 in /usr/local/lib/python3.10/dist-packages (from jinja2->torch>=1.11.0->sentence-transformers) (2.1.5)\n",
            "Requirement already satisfied: charset-normalizer<4,>=2 in /usr/local/lib/python3.10/dist-packages (from requests->huggingface-hub>=0.15.1->sentence-transformers) (3.3.2)\n",
            "Requirement already satisfied: idna<4,>=2.5 in /usr/local/lib/python3.10/dist-packages (from requests->huggingface-hub>=0.15.1->sentence-transformers) (3.7)\n",
            "Requirement already satisfied: urllib3<3,>=1.21.1 in /usr/local/lib/python3.10/dist-packages (from requests->huggingface-hub>=0.15.1->sentence-transformers) (2.0.7)\n",
            "Requirement already satisfied: certifi>=2017.4.17 in /usr/local/lib/python3.10/dist-packages (from requests->huggingface-hub>=0.15.1->sentence-transformers) (2024.6.2)\n",
            "Requirement already satisfied: mpmath<1.4.0,>=1.1.0 in /usr/local/lib/python3.10/dist-packages (from sympy->torch>=1.11.0->sentence-transformers) (1.3.0)\n",
            "Installing collected packages: nvidia-nvtx-cu12, nvidia-nvjitlink-cu12, nvidia-nccl-cu12, nvidia-curand-cu12, nvidia-cufft-cu12, nvidia-cuda-runtime-cu12, nvidia-cuda-nvrtc-cu12, nvidia-cuda-cupti-cu12, nvidia-cublas-cu12, nvidia-cusparse-cu12, nvidia-cudnn-cu12, nvidia-cusolver-cu12, sentence-transformers\n",
            "Successfully installed nvidia-cublas-cu12-12.1.3.1 nvidia-cuda-cupti-cu12-12.1.105 nvidia-cuda-nvrtc-cu12-12.1.105 nvidia-cuda-runtime-cu12-12.1.105 nvidia-cudnn-cu12-8.9.2.26 nvidia-cufft-cu12-11.0.2.54 nvidia-curand-cu12-10.3.2.106 nvidia-cusolver-cu12-11.4.5.107 nvidia-cusparse-cu12-12.1.0.106 nvidia-nccl-cu12-2.20.5 nvidia-nvjitlink-cu12-12.5.82 nvidia-nvtx-cu12-12.1.105 sentence-transformers-3.0.1\n"
          ]
        }
      ]
    },
    {
      "cell_type": "code",
      "source": [
        "from sentence_transformers import SentenceTransformer"
      ],
      "metadata": {
        "id": "o1u5DqyGBxyi",
        "colab": {
          "base_uri": "https://localhost:8080/"
        },
        "outputId": "4fc8276c-9027-40fd-b9ed-c9504dc2ad68"
      },
      "execution_count": null,
      "outputs": [
        {
          "output_type": "stream",
          "name": "stderr",
          "text": [
            "/usr/local/lib/python3.10/dist-packages/sentence_transformers/cross_encoder/CrossEncoder.py:11: TqdmExperimentalWarning: Using `tqdm.autonotebook.tqdm` in notebook mode. Use `tqdm.tqdm` instead to force console mode (e.g. in jupyter console)\n",
            "  from tqdm.autonotebook import tqdm, trange\n"
          ]
        }
      ]
    },
    {
      "cell_type": "code",
      "source": [
        "model = SentenceTransformer('intfloat/multilingual-e5-large-instruct')"
      ],
      "metadata": {
        "colab": {
          "base_uri": "https://localhost:8080/",
          "height": 476,
          "referenced_widgets": [
            "b205c9c2563342f1ab60cf9e2e119598",
            "c7e72f05bb8f41d1bac0155bf0718510",
            "a982f6df0e024d7f8cd4b3fb67e4c271",
            "042659be6cf442de9052241d09e1142a",
            "3ccd0a5df5944781a54c8cb5c35b3fa1",
            "ddc2729cdcd445c782274c553e26990f",
            "de513878a0dc404e9977cb627fd7591f",
            "e1698381f4ce4b3ba873674fe5911479",
            "2ec51ca635094bb5bb031ea567616810",
            "13e3476edebd4d2d84857c4f10b132fd",
            "4c74b8dba96e47b78b0129dcd6fff608",
            "2481b9d4b9ec4cadb34afc12919a1cb2",
            "891d8eaf739b45dbbc14100970f3470e",
            "a41fe72421574652b3556c3dead66db0",
            "21190bd424714275bfb720f00093e4c0",
            "dad31cc0780a4d0891347abfb5a0dd93",
            "1932fc874b1a47cfb1f803ffd04fff43",
            "b4cfde24d5d9458490b116eb53495526",
            "69a476d428964a4d9a2aa86b30604cb4",
            "eb0ba72cd27447b4810b0323a6d5cbbf",
            "fbf98c82cc444897bafe17ab04ca3cc9",
            "5d63f445ae424acfa9052b8f5e433701",
            "ae2a0c5ab33e4156806a60f71b2de70d",
            "55dc00c4e1b74565abc2714b032a3893",
            "176fa26c6f79409b9bf1c770e4e0c318",
            "3f7d03a7f9fa482382d3e94e44f666b0",
            "1e4b8ae9754a400aaa87192a5c45d575",
            "57458cf4acff4d12b0665c9c5f6ad255",
            "48c80e2161d545d5bf01eb0937e8ad3a",
            "ac72705ba96d46d8975d4baa4dbf3ce8",
            "6b0d716d36d649d49f371a6e945ec146",
            "80958aec868440078f33e006afd8e739",
            "61ee80b2483245fab3a9bbc629936701",
            "82a1c6c102bc454ea7ca8d86df3bbcf0",
            "1ed8160db5dd48c282523aa2efb01c70",
            "b6900aa62c484e71a973f2afb8e2532e",
            "0175b594bfaa4297a2e4993979c8b99d",
            "a741157c20f64814bddbad187551fa87",
            "d597f436e7a7414394e8e22cfe570227",
            "f3ca756dc1ba484fbc914aec2b590001",
            "4017236d156b4b20bb26480bce111aab",
            "24d291141e644fed82da3b775c0f268d",
            "1bec5e1aabd64f8e852ab0a1f7facf5e",
            "340b93df0c0442beba910778aec7e385",
            "0bea737dd1b74605af18d6eb27741696",
            "2a00f5da9b5b482da7d86aa253061eb3",
            "f5b789cfa02f403786162cc5a599fb38",
            "6af47367f55d444292aa2dbbace454f4",
            "e2c002fbdab44af69a8583339ccfab33",
            "e7d4a3c93608476bbed1cf86b0da0319",
            "df452b70041f466aa9dd9c94457743ce",
            "9c6a4d6a191a44d8b2942753920f3ded",
            "9e61b44ffaa8441e81baa399ab5dba56",
            "0de301859b6b4625aaacb9de393e134b",
            "9ceeec1965104b05aa6327de6cb7c37d",
            "99c10feca0944195abdf18285723f813",
            "d28eeb1dcc6a47e5b83077886c16e1d8",
            "346616297c924509b0687ae8123a7fbb",
            "7dc42351fcb2439c86be1ed79c8efe80",
            "7044eb0b8ac84ff6aee0dec9242a75dd",
            "2002ee694c4841f3acc42662289b7c94",
            "a948a490466e4642b9cf0a0cc3867854",
            "a3cb975c115a43c19012208db3862d27",
            "9fc33d681dbc4df4a4b241ddb8b62606",
            "f2222213fc694bde88f3a2a1ac4c1293",
            "92800e663e8e4584990e799553a31f71",
            "2ee766c29173466da2ae40d4a28e58ef",
            "33505a6da4e047eaa03d7192c79fa5f0",
            "157488e288f648079dba261f40579e82",
            "23e8c891bb024e74a71324f51366c577",
            "79e640cadd734d0aa4877aa19df98701",
            "124b330655424597953d64be83d5b7d0",
            "d987816277e84988b6f217658b26ccb7",
            "d660a34a9f9b4f18b7dc8fea5009476a",
            "919a005782ff4e49bf8e497dcd782601",
            "e2ebbfeb29f6474b9dca9ea046890597",
            "a63cbb565a624436abeba7b001050758",
            "7f897e46e9654871ba72246e612626c9",
            "6a40f9b2ed774111b2c75bb746225d23",
            "6145f19e2db54ef88075d768536d225c",
            "d26efabadf0448f1954ae78894ada510",
            "a278de9e32f44858990bd5405dbee90c",
            "986e035eece6441cb51fb3ad5060dc8d",
            "ea12d12399b94aceba257afd4b622cb6",
            "fe688de91cf7469eb1d20426ceb25923",
            "c3344b8f3188417b82ea3ec0636b7043",
            "579dd0345d464d878684dc066bcc1366",
            "6139f45b5a394fe7b6716f1eb509f501",
            "75788db5f3e34b8f9d99dc21b3e260e6",
            "bf6454ec784a4d4e85da381890631b1d",
            "329bd838db114e0fb77d1fbb4c663184",
            "c554ff8e0a534a85b73fa6fa1a858537",
            "40c38f7a76004ae2bff2f5186bceef77",
            "0c3bc100c76a4c589f974ee8da5e5cbe",
            "c97340e11a48425eb4b5a2eb98fe7f4b",
            "2fd15a3e53e14db9957db162ba1a293d",
            "f0c74ec4e22a47eeaa8c2862324090d0",
            "65b20cebe85b468e85b9059dc1018ff9",
            "16ca9736a491410081fafc45782b4303",
            "c27f269cb1c14c13aedefe52e3edb419",
            "5cf75887f0084b9c82d5e7cf92508926",
            "b454276389804fcc92e878e9f3aa0c5b",
            "2856df6e1d9f465980eb17d14409b1ee",
            "048871a4b4914895bb32d7ff73e66098",
            "1a6cbf04f16340b09d83fe24a259675e",
            "81da519cde2b45acafc8139b688fc57b",
            "c13e2c6d6d904a4ba904b730af49eccc",
            "a07b8f9150414e7d8415d8ce932dedaa",
            "34f2f41ce3b64ca194cf9823e95573fa",
            "7fd4392aae1c4c1882b4241a25b52417"
          ]
        },
        "id": "cplOq2JLBixL",
        "outputId": "edcc322b-ae3d-404b-8d2e-6aa15fe1848d"
      },
      "execution_count": null,
      "outputs": [
        {
          "output_type": "stream",
          "name": "stderr",
          "text": [
            "/usr/local/lib/python3.10/dist-packages/huggingface_hub/utils/_token.py:89: UserWarning: \n",
            "The secret `HF_TOKEN` does not exist in your Colab secrets.\n",
            "To authenticate with the Hugging Face Hub, create a token in your settings tab (https://huggingface.co/settings/tokens), set it as secret in your Google Colab and restart your session.\n",
            "You will be able to reuse this secret in all of your notebooks.\n",
            "Please note that authentication is recommended but still optional to access public models or datasets.\n",
            "  warnings.warn(\n"
          ]
        },
        {
          "output_type": "display_data",
          "data": {
            "text/plain": [
              "modules.json:   0%|          | 0.00/349 [00:00<?, ?B/s]"
            ],
            "application/vnd.jupyter.widget-view+json": {
              "version_major": 2,
              "version_minor": 0,
              "model_id": "b205c9c2563342f1ab60cf9e2e119598"
            }
          },
          "metadata": {}
        },
        {
          "output_type": "display_data",
          "data": {
            "text/plain": [
              "config_sentence_transformers.json:   0%|          | 0.00/128 [00:00<?, ?B/s]"
            ],
            "application/vnd.jupyter.widget-view+json": {
              "version_major": 2,
              "version_minor": 0,
              "model_id": "2481b9d4b9ec4cadb34afc12919a1cb2"
            }
          },
          "metadata": {}
        },
        {
          "output_type": "display_data",
          "data": {
            "text/plain": [
              "README.md:   0%|          | 0.00/140k [00:00<?, ?B/s]"
            ],
            "application/vnd.jupyter.widget-view+json": {
              "version_major": 2,
              "version_minor": 0,
              "model_id": "ae2a0c5ab33e4156806a60f71b2de70d"
            }
          },
          "metadata": {}
        },
        {
          "output_type": "stream",
          "name": "stderr",
          "text": [
            "/usr/local/lib/python3.10/dist-packages/huggingface_hub/file_download.py:1132: FutureWarning: `resume_download` is deprecated and will be removed in version 1.0.0. Downloads always resume when possible. If you want to force a new download, use `force_download=True`.\n",
            "  warnings.warn(\n"
          ]
        },
        {
          "output_type": "display_data",
          "data": {
            "text/plain": [
              "config.json:   0%|          | 0.00/690 [00:00<?, ?B/s]"
            ],
            "application/vnd.jupyter.widget-view+json": {
              "version_major": 2,
              "version_minor": 0,
              "model_id": "82a1c6c102bc454ea7ca8d86df3bbcf0"
            }
          },
          "metadata": {}
        },
        {
          "output_type": "display_data",
          "data": {
            "text/plain": [
              "model.safetensors:   0%|          | 0.00/1.12G [00:00<?, ?B/s]"
            ],
            "application/vnd.jupyter.widget-view+json": {
              "version_major": 2,
              "version_minor": 0,
              "model_id": "0bea737dd1b74605af18d6eb27741696"
            }
          },
          "metadata": {}
        },
        {
          "output_type": "display_data",
          "data": {
            "text/plain": [
              "tokenizer_config.json:   0%|          | 0.00/1.18k [00:00<?, ?B/s]"
            ],
            "application/vnd.jupyter.widget-view+json": {
              "version_major": 2,
              "version_minor": 0,
              "model_id": "99c10feca0944195abdf18285723f813"
            }
          },
          "metadata": {}
        },
        {
          "output_type": "display_data",
          "data": {
            "text/plain": [
              "sentencepiece.bpe.model:   0%|          | 0.00/5.07M [00:00<?, ?B/s]"
            ],
            "application/vnd.jupyter.widget-view+json": {
              "version_major": 2,
              "version_minor": 0,
              "model_id": "2ee766c29173466da2ae40d4a28e58ef"
            }
          },
          "metadata": {}
        },
        {
          "output_type": "display_data",
          "data": {
            "text/plain": [
              "tokenizer.json:   0%|          | 0.00/17.1M [00:00<?, ?B/s]"
            ],
            "application/vnd.jupyter.widget-view+json": {
              "version_major": 2,
              "version_minor": 0,
              "model_id": "7f897e46e9654871ba72246e612626c9"
            }
          },
          "metadata": {}
        },
        {
          "output_type": "display_data",
          "data": {
            "text/plain": [
              "special_tokens_map.json:   0%|          | 0.00/964 [00:00<?, ?B/s]"
            ],
            "application/vnd.jupyter.widget-view+json": {
              "version_major": 2,
              "version_minor": 0,
              "model_id": "75788db5f3e34b8f9d99dc21b3e260e6"
            }
          },
          "metadata": {}
        },
        {
          "output_type": "display_data",
          "data": {
            "text/plain": [
              "1_Pooling/config.json:   0%|          | 0.00/271 [00:00<?, ?B/s]"
            ],
            "application/vnd.jupyter.widget-view+json": {
              "version_major": 2,
              "version_minor": 0,
              "model_id": "c27f269cb1c14c13aedefe52e3edb419"
            }
          },
          "metadata": {}
        }
      ]
    },
    {
      "cell_type": "markdown",
      "source": [],
      "metadata": {
        "id": "u2azgncz1MDT"
      }
    },
    {
      "cell_type": "code",
      "source": [
        "docs = ['tender','partner','think','come','benchmark','accuse','year','fact','draw','group','reinveste','violence','chief','nation','matter','concession','submit','datum','afghan','kill','below','suspect','currency','trail','stay','new','kenyan','diplomatic','journalist','decrease','more','university','nse','club','soon','ever','defense','country','equal','proceeding','world','natural','resolution','twice','really','client','recovery','regulation','vol','retain','distribution','retail','demand','design','try','much','extensive','ep','method','control','republic','publication','comment','rating','late','feature','land','analyst','home','approach','bank','favorably','shall','know','next','authority','produce','purchase','progress','negative','pandemic','arrive','understand','out','mitte','airport','bullish','stock','growth','provincial','text','past']"
      ],
      "metadata": {
        "id": "rfO9iyRQcBai"
      },
      "execution_count": null,
      "outputs": []
    },
    {
      "cell_type": "code",
      "source": [
        "embeddings = model.encode(docs, convert_to_tensor=True, normalize_embeddings=True)\n",
        "print(embeddings)"
      ],
      "metadata": {
        "colab": {
          "base_uri": "https://localhost:8080/"
        },
        "id": "ZQrMLdemcoEo",
        "outputId": "a88e0190-c532-48ca-bea7-2172d670aa8c"
      },
      "execution_count": null,
      "outputs": [
        {
          "output_type": "stream",
          "name": "stdout",
          "text": [
            "tensor([[ 0.0218,  0.0377, -0.0012,  ..., -0.0544, -0.0544,  0.0320],\n",
            "        [ 0.0307,  0.0233, -0.0120,  ..., -0.0093, -0.0387,  0.0375],\n",
            "        [ 0.0087,  0.0277,  0.0029,  ..., -0.0271, -0.0338,  0.0264],\n",
            "        ...,\n",
            "        [ 0.0024,  0.0369, -0.0075,  ..., -0.0096, -0.0272,  0.0366],\n",
            "        [ 0.0173,  0.0428, -0.0041,  ...,  0.0013, -0.0243,  0.0381],\n",
            "        [ 0.0312,  0.0469, -0.0180,  ...,  0.0043, -0.0511, -0.0129]],\n",
            "       device='cuda:0')\n"
          ]
        }
      ]
    },
    {
      "cell_type": "code",
      "source": [
        "# prompt: Using docs and embeddings, apply Kmean clustering to find the ideal amount of clusters\n",
        "\n",
        "from sklearn.cluster import KMeans\n",
        "\n",
        "# # Determine the ideal number of clusters using the elbow method\n",
        "# inertia = []\n",
        "# for i in range(1, 11):\n",
        "#     km = KMeans(n_clusters=i, random_state=0)\n",
        "#     km.fit(embeddings.cpu().numpy())\n",
        "#     inertia.append(km.inertia_)\n",
        "\n",
        "# # Plot the elbow curve\n",
        "# import matplotlib.pyplot as plt\n",
        "\n",
        "# plt.plot(range(1, 11), inertia)\n",
        "# plt.xlabel('Number of clusters')\n",
        "# plt.ylabel('Inertia')\n",
        "# plt.show()\n",
        "\n",
        "# Choose the number of clusters based on the elbow curve\n",
        "num_clusters = 3\n",
        "\n",
        "# Perform K-means clustering with the chosen number of clusters\n",
        "km = KMeans(n_clusters=num_clusters, random_state=0)\n",
        "km.fit(embeddings.cpu().numpy())\n",
        "\n",
        "# Print the cluster labels\n",
        "print(km.labels_)\n"
      ],
      "metadata": {
        "colab": {
          "base_uri": "https://localhost:8080/"
        },
        "id": "TG92aD7wi5Pk",
        "outputId": "784ae147-bde4-4a15-b1f6-353199502633"
      },
      "execution_count": null,
      "outputs": [
        {
          "output_type": "stream",
          "name": "stdout",
          "text": [
            "[1 1 0 0 1 0 2 0 0 2 1 2 2 2 0 1 0 0 2 0 0 0 1 0 0 1 2 2 2 1 1 2 0 2 0 0 1\n",
            " 2 0 0 2 0 0 0 0 0 1 1 0 1 1 1 1 0 0 0 0 0 0 0 2 0 0 1 0 0 2 0 2 0 1 1 0 0\n",
            " 0 0 2 1 0 1 2 0 0 0 0 2 1 1 1 2 0 0]\n"
          ]
        },
        {
          "output_type": "stream",
          "name": "stderr",
          "text": [
            "/usr/local/lib/python3.10/dist-packages/sklearn/cluster/_kmeans.py:870: FutureWarning: The default value of `n_init` will change from 10 to 'auto' in 1.4. Set the value of `n_init` explicitly to suppress the warning\n",
            "  warnings.warn(\n"
          ]
        }
      ]
    },
    {
      "cell_type": "code",
      "source": [
        "non_peace_ls = ['kill','afghan','tender','nation','concession','matter','fact','accuse','violence','draw','suspect','submit','proceeding','defense','ever','soon','club','nse','university','journalist','diplomatic','kenyan','progress','publication','provincial','mitte','airport','pandemic','understand','arrive','text','land','country','come','demand','authority','know','try','think','world','much','new','more','home','stay','next','group','bank','approach','partner','shall','produce','control','regulation','republic','late','really']\n",
        "peace_ls = ['chief','recovery','out','design','equal','datum','negative','below','currency','trail','reinveste','growth','decrease','bullish','past','year','stock','benchmark','resolution','natural','feature','analyst','favorably','twice','client','distribution','retail','extensive','method','ep','retain','vol','comment','purchase','rating']"
      ],
      "metadata": {
        "id": "h2jHiWe2h2ym"
      },
      "execution_count": null,
      "outputs": []
    },
    {
      "cell_type": "code",
      "source": [
        "# prompt: Please create a dictionary where the unique value of the clusters is the key and the corresponding word in the doc is the value\n",
        "\n",
        "cluster_dict = {}\n",
        "for i, label in enumerate(km.labels_):\n",
        "  if label not in cluster_dict:\n",
        "    cluster_dict[label] = []\n",
        "  cluster_dict[label].append(docs[i])\n",
        "\n",
        "print(cluster_dict)\n"
      ],
      "metadata": {
        "colab": {
          "base_uri": "https://localhost:8080/"
        },
        "id": "CsLaCbYpsJVk",
        "outputId": "aa117c81-a603-43e7-dc13-28f0874ca628"
      },
      "execution_count": null,
      "outputs": [
        {
          "output_type": "stream",
          "name": "stdout",
          "text": [
            "{1: ['tender', 'partner', 'benchmark', 'reinveste', 'concession', 'currency', 'new', 'decrease', 'more', 'defense', 'recovery', 'regulation', 'retain', 'distribution', 'retail', 'demand', 'rating', 'bank', 'favorably', 'purchase', 'negative', 'bullish', 'stock', 'growth'], 0: ['think', 'come', 'accuse', 'fact', 'draw', 'matter', 'submit', 'datum', 'kill', 'below', 'suspect', 'trail', 'stay', 'nse', 'soon', 'ever', 'equal', 'proceeding', 'natural', 'resolution', 'twice', 'really', 'client', 'vol', 'design', 'try', 'much', 'extensive', 'ep', 'method', 'control', 'publication', 'comment', 'late', 'feature', 'analyst', 'approach', 'shall', 'know', 'next', 'authority', 'progress', 'arrive', 'understand', 'out', 'mitte', 'text', 'past'], 2: ['year', 'group', 'violence', 'chief', 'nation', 'afghan', 'kenyan', 'diplomatic', 'journalist', 'university', 'club', 'country', 'world', 'republic', 'land', 'home', 'produce', 'pandemic', 'airport', 'provincial']}\n"
          ]
        }
      ]
    },
    {
      "cell_type": "code",
      "source": [
        "', '.join([i for i in cluster_dict[1] if i in peace_ls])\n",
        "# ', '.join([i for i in cluster_dict[2] if i in non_peace_ls])\n",
        "# (len([i for i in cluster_dict[0] if i in peace_ls])/len(peace_ls))/(len([i for i in cluster_dict[0] if i in non_peace_ls])/len(non_peace_ls))"
      ],
      "metadata": {
        "colab": {
          "base_uri": "https://localhost:8080/",
          "height": 36
        },
        "id": "BfM4ig39o2Hd",
        "outputId": "4ddd049d-0b7d-4a25-940e-e3fc3351e7d1"
      },
      "execution_count": null,
      "outputs": [
        {
          "output_type": "execute_result",
          "data": {
            "text/plain": [
              "'benchmark, reinveste, currency, decrease, recovery, retain, distribution, retail, rating, favorably, purchase, negative, bullish, stock, growth'"
            ],
            "application/vnd.google.colaboratory.intrinsic+json": {
              "type": "string"
            }
          },
          "metadata": {},
          "execution_count": 59
        }
      ]
    },
    {
      "cell_type": "code",
      "source": [
        "', '.join([i for i in cluster_dict[2] if i in non_peace_ls])"
      ],
      "metadata": {
        "colab": {
          "base_uri": "https://localhost:8080/",
          "height": 36
        },
        "id": "-yiKubQjnX-y",
        "outputId": "a03f864f-cd0e-4b41-bb88-9a3bc1623857"
      },
      "execution_count": null,
      "outputs": [
        {
          "output_type": "execute_result",
          "data": {
            "text/plain": [
              "'group, violence, nation, afghan, kenyan, diplomatic, journalist, university, club, country, world, republic, land, home, produce, pandemic, airport, provincial'"
            ],
            "application/vnd.google.colaboratory.intrinsic+json": {
              "type": "string"
            }
          },
          "metadata": {},
          "execution_count": 60
        }
      ]
    },
    {
      "cell_type": "code",
      "source": [
        "(len([i for i in cluster_dict[0] if i in peace_ls])/len(peace_ls))/(len([i for i in cluster_dict[0] if i in non_peace_ls])/len(non_peace_ls))"
      ],
      "metadata": {
        "colab": {
          "base_uri": "https://localhost:8080/"
        },
        "id": "CAh9wT_hoToi",
        "outputId": "a3235b38-bfc3-4220-ed2e-854cf47697f2"
      },
      "execution_count": null,
      "outputs": [
        {
          "output_type": "execute_result",
          "data": {
            "text/plain": [
              "0.9771428571428571"
            ]
          },
          "metadata": {},
          "execution_count": 65
        }
      ]
    },
    {
      "cell_type": "code",
      "source": [
        "', '.join([i for i in cluster_dict[0] if i in non_peace_ls])"
      ],
      "metadata": {
        "id": "xqABe26doSHj"
      },
      "execution_count": null,
      "outputs": []
    },
    {
      "cell_type": "code",
      "source": [
        "def classify_word(word, cluster_dict):\n",
        "  for label, cluster in cluster_dict.items():\n",
        "    if word in cluster:\n",
        "      if label == 0:\n",
        "        return 'o'\n",
        "      elif label == 1:\n",
        "        return 'v'\n",
        "      elif label == 2:\n",
        "        return 'x'\n",
        "  return None\n"
      ],
      "metadata": {
        "id": "oEdw-REMsuev"
      },
      "execution_count": null,
      "outputs": []
    },
    {
      "cell_type": "code",
      "source": [
        "import matplotlib.pyplot as plt\n",
        "from sklearn.decomposition import PCA\n",
        "# Reduce dimensionality to 2D using PCA\n",
        "pca = PCA(n_components=2)\n",
        "embeddings_2d = pca.fit_transform(embeddings.detach().cpu().numpy())\n",
        "\n",
        "# Create a scatter plot\n",
        "plt.figure(figsize=(12, 12))\n",
        "\n",
        "for i, word in enumerate(docs):\n",
        "  #plt.text(embeddings_2d[i, 0], embeddings_2d[i, 1], word, fontsize=7)\n",
        "  marker = classify_word(word, cluster_dict)\n",
        "  if word in non_peace_ls:\n",
        "    plt.text(embeddings_2d[i, 0], embeddings_2d[i, 1], word,c='r', fontsize=14)\n",
        "    plt.scatter(embeddings_2d[i, 0], embeddings_2d[i, 1], c='r', s=20, marker= marker)\n",
        "  else:\n",
        "    plt.text(embeddings_2d[i, 0], embeddings_2d[i, 1], word,c='g', fontsize=14)\n",
        "    plt.scatter(embeddings_2d[i, 0], embeddings_2d[i, 1], c='g', s=20,marker = marker)\n",
        "\n",
        "\n",
        "# Show the plot\n",
        "plt.show()\n"
      ],
      "metadata": {
        "colab": {
          "base_uri": "https://localhost:8080/",
          "height": 830
        },
        "id": "t5rgSSB9qSzr",
        "outputId": "cb9297b7-273d-4a61-d426-6f2151ac9d39"
      },
      "execution_count": null,
      "outputs": [
        {
          "output_type": "display_data",
          "data": {
            "text/plain": [
              "<Figure size 1200x1200 with 1 Axes>"
            ],
            "image/png": "[encoded data removed]"
          },
          "metadata": {}
        }
      ]
    },
    {
      "cell_type": "code",
      "source": [
        "# prompt: The above code is ok. Please make the font size and dots smaller so they don;t overlap each other.\n",
        "\n",
        "import matplotlib.pyplot as plt\n",
        "from sklearn.decomposition import PCA\n",
        "# Reduce dimensionality to 2D using PCA\n",
        "pca = PCA(n_components=2)\n",
        "embeddings_2d = pca.fit_transform(embeddings.detach().cpu().numpy())\n",
        "\n",
        "# Create a scatter plot\n",
        "plt.figure(figsize=(10, 10))\n",
        "\n",
        "for i, word in enumerate(docs):\n",
        "  #plt.text(embeddings_2d[i, 0], embeddings_2d[i, 1], word, fontsize=7)\n",
        "  if word in non_peace_ls:\n",
        "    plt.text(embeddings_2d[i, 0], embeddings_2d[i, 1], word,c='r', fontsize=7)\n",
        "    plt.scatter(embeddings_2d[i, 0], embeddings_2d[i, 1], c='r', s=10)\n",
        "  else:\n",
        "    plt.text(embeddings_2d[i, 0], embeddings_2d[i, 1], word,c='g', fontsize=7)\n",
        "    plt.scatter(embeddings_2d[i, 0], embeddings_2d[i, 1], c='g', s=10)\n",
        "\n",
        "\n",
        "# Show the plot\n",
        "plt.show()\n"
      ],
      "metadata": {
        "colab": {
          "base_uri": "https://localhost:8080/",
          "height": 830
        },
        "id": "kh9pEucqj-19",
        "outputId": "c68f6206-2c78-440e-f380-67175c993247"
      },
      "execution_count": null,
      "outputs": [
        {
          "output_type": "display_data",
          "data": {
            "text/plain": [
              "<Figure size 1000x1000 with 1 Axes>"
            ],
            "image/png": "[encoded data removed]"
          },
          "metadata": {}
        }
      ]
    },
    {
      "cell_type": "code",
      "source": [
        "def max1(peace,npeace):\n",
        "  if peace >= npeace:\n",
        "    return(\"Peace\")\n",
        "  else:\n",
        "    return(\"Non Peace\")"
      ],
      "metadata": {
        "id": "kDFyxDVuuxSU"
      },
      "execution_count": null,
      "outputs": []
    },
    {
      "cell_type": "code",
      "source": [
        "def get_values(key,peace_ls,non_peace_ls,list1):\n",
        "  peace = 1\n",
        "  npeace = 1\n",
        "  for i in list1:\n",
        "    if i in peace_ls:\n",
        "      peace = peace+1\n",
        "    else:\n",
        "      npeace = npeace+1\n",
        "\n",
        "  peace = peace/len(peace_ls)\n",
        "  npeace = npeace/len(non_peace_ls)\n",
        "\n",
        "  return(\"{} Ratio is {} and winner is {}\".format(key,peace/(npeace),max1(peace,npeace)))"
      ],
      "metadata": {
        "id": "JECJjigNxJfe"
      },
      "execution_count": null,
      "outputs": []
    },
    {
      "cell_type": "code",
      "source": [
        "non_peace_ls = ['kill','afghan','tender','nation','concession','matter','fact','accuse','violence','draw','suspect','submit','proceeding','defense','ever','soon','club','nse','university','journalist','diplomatic','kenyan','progress','publication','provincial','mitte','airport','pandemic','understand','arrive','text','land','country','come','demand','authority','know','try','think','world','much','new','more','home','stay','next','group','bank','approach','partner','shall','produce','control','regulation','republic','late','really']\n",
        "peace_ls = ['chief','recovery','out','design','equal','datum','negative','below','currency','trail','reinveste','growth','decrease','bullish','past','year','stock','benchmark','resolution','natural','feature','analyst','favorably','twice','client','distribution','retail','extensive','method','ep','retain','vol','comment','purchase','rating']\n",
        "\n",
        "word_categories = {\n",
        "    'business_finance': ['tender', 'benchmark', 'concession', 'submit', 'currency', 'reinvest', 'retain', 'distribution', 'retail', 'demand', 'purchase', 'stock', 'bullish', 'growth', 'analyst', 'bank', 'rating', 'partner'],\n",
        "    'government_public': ['nation', 'diplomatic', 'defense', 'country', 'proceeding', 'regulation', 'republic', 'authority', 'provincial'],\n",
        "    'legal_conflict': ['accuse', 'violence', 'suspect', 'kill', 'defense'],\n",
        "    'analysis_decision': ['think', 'fact', 'matter', 'resolution', 'analysis', 'method', 'control', 'approach', 'understand', 'progress'],\n",
        "    'communication_media': ['draw', 'group', 'comment', 'publication', 'journalist', 'text'],\n",
        "    'education_knowledge': ['datum', 'university', 'know', 'learn'],\n",
        "    'geopolitical': ['afghan', 'kenyan', 'nation', 'world', 'republic', 'country'],\n",
        "    'personal_social': ['partner', 'chief', 'client', 'group', 'club'],\n",
        "    'time_quantity': ['year', 'soon', 'ever', 'twice', 'more', 'much', 'next', 'late', 'past'],\n",
        "    'health_wellbeing': ['recovery', 'negative', 'pandemic'],\n",
        "    'travel_locations': ['trail', 'stay', 'home', 'airport', 'land'],\n",
        "    'misc_actions_attributes': ['come', 'reinvest', 'decrease', 'stay', 'new', 'equal', 'natural', 'really', 'try', 'extensive', 'produce', 'arrive', 'out'],\n",
        "    'tech_development': ['design', 'feature', 'method', 'progress'],\n",
        "    'market_economics': ['demand', 'supply', 'market', 'retail', 'stock']\n",
        "}\n",
        "\n",
        "for i in word_categories.keys():\n",
        "  print(get_values(i,peace_ls,non_peace_ls,word_categories[i]))\n",
        "\n"
      ],
      "metadata": {
        "colab": {
          "base_uri": "https://localhost:8080/"
        },
        "id": "6R2SiTkAxAFh",
        "outputId": "3a7988d1-7876-4fc4-a013-f5b344727a97"
      },
      "execution_count": null,
      "outputs": [
        {
          "output_type": "stream",
          "name": "stdout",
          "text": [
            "business_finance Ratio is 2.442857142857143 and winner is Peace\n",
            "government_public Ratio is 0.16285714285714287 and winner is Non Peace\n",
            "legal_conflict Ratio is 0.2714285714285714 and winner is Non Peace\n",
            "analysis_decision Ratio is 0.5428571428571429 and winner is Non Peace\n",
            "communication_media Ratio is 0.5428571428571428 and winner is Non Peace\n",
            "education_knowledge Ratio is 0.8142857142857143 and winner is Non Peace\n",
            "geopolitical Ratio is 0.2326530612244898 and winner is Non Peace\n",
            "personal_social Ratio is 1.2214285714285715 and winner is Peace\n",
            "time_quantity Ratio is 0.9306122448979592 and winner is Non Peace\n",
            "health_wellbeing Ratio is 2.442857142857143 and winner is Peace\n",
            "travel_locations Ratio is 0.6514285714285715 and winner is Non Peace\n",
            "misc_actions_attributes Ratio is 1.0857142857142859 and winner is Peace\n",
            "tech_development Ratio is 3.257142857142857 and winner is Peace\n",
            "market_economics Ratio is 1.2214285714285715 and winner is Peace\n"
          ]
        }
      ]
    },
    {
      "cell_type": "code",
      "source": [
        "'government_public','legal_conflict','geopolitical','communication_media','analysis_decision'"
      ],
      "metadata": {
        "id": "_nyyzj_48-5l"
      },
      "execution_count": null,
      "outputs": []
    },
    {
      "cell_type": "code",
      "source": [
        "for j in ['government_public','legal_conflict','geopolitical','communication_media','analysis_decision']:\n",
        "  print(j)\n",
        "  print(', '.join([i for i in word_categories[j] if i in peace_ls]))\n",
        "  print(', '.join([i for i in word_categories[j] if i in non_peace_ls]))\n",
        "  if len([i for i in word_categories[j] if i in peace_ls]) == 0:\n",
        "    print(\"All non peace\")\n",
        "  elif len([i for i in word_categories[j] if i in non_peace_ls]) == 0:\n",
        "    print(\"All Peace\")\n",
        "  else:\n",
        "    print((len([i for i in word_categories[j] if i in peace_ls])/len(peace_ls))/(len([i for i in word_categories[j] if i in non_peace_ls])/len(non_peace_ls)))\n"
      ],
      "metadata": {
        "colab": {
          "base_uri": "https://localhost:8080/"
        },
        "id": "xGabt2OC18lR",
        "outputId": "9ee77bb5-c8d1-48b2-ecd0-3d52b17759ff"
      },
      "execution_count": null,
      "outputs": [
        {
          "output_type": "stream",
          "name": "stdout",
          "text": [
            "government_public\n",
            "\n",
            "nation, diplomatic, defense, country, proceeding, regulation, republic, authority, provincial\n",
            "All non peace\n",
            "legal_conflict\n",
            "\n",
            "accuse, violence, suspect, kill, defense\n",
            "All non peace\n",
            "geopolitical\n",
            "\n",
            "afghan, kenyan, nation, world, republic, country\n",
            "All non peace\n",
            "communication_media\n",
            "comment\n",
            "draw, group, publication, journalist, text\n",
            "0.32571428571428573\n",
            "analysis_decision\n",
            "resolution, method\n",
            "think, fact, matter, control, approach, understand, progress\n",
            "0.4653061224489796\n"
          ]
        }
      ]
    },
    {
      "cell_type": "code",
      "source": [
        "', '.join([i for i in cluster_dict[0] if i in peace_ls])\n",
        "', '.join([i for i in cluster_dict[0] if i in non_peace_ls])\n",
        "(len([i for i in cluster_dict[0] if i in peace_ls])/len(peace_ls))/(len([i for i in cluster_dict[0] if i in non_peace_ls])/len(non_peace_ls))"
      ],
      "metadata": {
        "colab": {
          "base_uri": "https://localhost:8080/"
        },
        "id": "BvbnDSHX1yxk",
        "outputId": "ebcee21f-f031-4566-fe4a-605eed3ee3be"
      },
      "execution_count": null,
      "outputs": [
        {
          "output_type": "execute_result",
          "data": {
            "text/plain": [
              "0.11764705882352941"
            ]
          },
          "metadata": {},
          "execution_count": 86
        }
      ]
    },
    {
      "cell_type": "code",
      "source": [
        "word_categories['business_finance']"
      ],
      "metadata": {
        "colab": {
          "base_uri": "https://localhost:8080/"
        },
        "id": "eqg-2WlB1oMG",
        "outputId": "6794082f-5047-4f90-bd05-d9b27af7d749"
      },
      "execution_count": null,
      "outputs": [
        {
          "output_type": "execute_result",
          "data": {
            "text/plain": [
              "['tender',\n",
              " 'benchmark',\n",
              " 'concession',\n",
              " 'submit',\n",
              " 'currency',\n",
              " 'reinvest',\n",
              " 'retain',\n",
              " 'distribution',\n",
              " 'retail',\n",
              " 'demand',\n",
              " 'purchase',\n",
              " 'stock',\n",
              " 'bullish',\n",
              " 'growth',\n",
              " 'analyst',\n",
              " 'bank',\n",
              " 'rating',\n",
              " 'partner']"
            ]
          },
          "metadata": {},
          "execution_count": 85
        }
      ]
    },
    {
      "cell_type": "code",
      "source": [
        "peace_ls = ['ebit', 'aggregate', 'transaction', 'vwap', 'macd', 'bond', 'click', 'rating', 'undervalue', 'exceed', 'advt', 'analysis', 'minus', 'performer', 'oslobor', 'downtrend', 'parison', 'outperform', 'na', 'employ', 'tsr', 'vi', 'glossary', 'versus', 'overvaluation', 'undervaluation', 'convergence', 'size', 'ceo', 'divergence', 'unfavorably', 'underperform', 'conversion', 'exponential', 'fix', 'overbought', 'criterion', 'headline', 'purchase', 'comment', 'steep', 'gdp', 'length', 'annualize', 'bracket', 'acquisition', 'improvement', 'euro', 'equivalent', 'intangible']\n",
        "non_peace_ls = ['constitution', 'iron', 'mining', 'kill', 'district', 'institution', 'corruption', 'peace', 'mine', 'graphite', 'block', 'governor', 'tender', 'opposition', 'ton', 'port', 'mission', 'arrest', 'presidential', 'effort', 'investigation', 'nation', 'concession', 'matter', 'military', 'fact', 'fight', 'infrastructure', 'request', 'obtain', 'death', 'war', 'adopt', 'lack', 'accuse', 'especially', 'secretary', 'violence', 'resident', 'lkr', 'yesterday', 'pursue', 'constitutional', 'protest', 'victory', 'youth', 'fail', 'grade', 'society', 'militant']\n",
        "docs = peace_ls + non_peace_ls\n"
      ],
      "metadata": {
        "id": "BwnyNToLmFTg"
      },
      "execution_count": null,
      "outputs": []
    },
    {
      "cell_type": "code",
      "source": [
        "docs"
      ],
      "metadata": {
        "colab": {
          "base_uri": "https://localhost:8080/"
        },
        "id": "IArrRkWFx23j",
        "outputId": "4bafba38-9f85-4d0e-a91e-74b198546680"
      },
      "execution_count": null,
      "outputs": [
        {
          "output_type": "execute_result",
          "data": {
            "text/plain": [
              "['ebit',\n",
              " 'aggregate',\n",
              " 'transaction',\n",
              " 'vwap',\n",
              " 'macd',\n",
              " 'bond',\n",
              " 'click',\n",
              " 'rating',\n",
              " 'undervalue',\n",
              " 'exceed',\n",
              " 'advt',\n",
              " 'analysis',\n",
              " 'minus',\n",
              " 'performer',\n",
              " 'oslobor',\n",
              " 'downtrend',\n",
              " 'parison',\n",
              " 'outperform',\n",
              " 'na',\n",
              " 'employ',\n",
              " 'tsr',\n",
              " 'vi',\n",
              " 'glossary',\n",
              " 'versus',\n",
              " 'overvaluation',\n",
              " 'undervaluation',\n",
              " 'convergence',\n",
              " 'size',\n",
              " 'ceo',\n",
              " 'divergence',\n",
              " 'unfavorably',\n",
              " 'underperform',\n",
              " 'conversion',\n",
              " 'exponential',\n",
              " 'fix',\n",
              " 'overbought',\n",
              " 'criterion',\n",
              " 'headline',\n",
              " 'purchase',\n",
              " 'comment',\n",
              " 'steep',\n",
              " 'gdp',\n",
              " 'length',\n",
              " 'annualize',\n",
              " 'bracket',\n",
              " 'acquisition',\n",
              " 'improvement',\n",
              " 'euro',\n",
              " 'equivalent',\n",
              " 'intangible',\n",
              " 'constitution',\n",
              " 'iron',\n",
              " 'mining',\n",
              " 'kill',\n",
              " 'district',\n",
              " 'institution',\n",
              " 'corruption',\n",
              " 'peace',\n",
              " 'mine',\n",
              " 'graphite',\n",
              " 'block',\n",
              " 'governor',\n",
              " 'tender',\n",
              " 'opposition',\n",
              " 'ton',\n",
              " 'port',\n",
              " 'mission',\n",
              " 'arrest',\n",
              " 'presidential',\n",
              " 'effort',\n",
              " 'investigation',\n",
              " 'nation',\n",
              " 'concession',\n",
              " 'matter',\n",
              " 'military',\n",
              " 'fact',\n",
              " 'fight',\n",
              " 'infrastructure',\n",
              " 'request',\n",
              " 'obtain',\n",
              " 'death',\n",
              " 'war',\n",
              " 'adopt',\n",
              " 'lack',\n",
              " 'accuse',\n",
              " 'especially',\n",
              " 'secretary',\n",
              " 'violence',\n",
              " 'resident',\n",
              " 'lkr',\n",
              " 'yesterday',\n",
              " 'pursue',\n",
              " 'constitutional',\n",
              " 'protest',\n",
              " 'victory',\n",
              " 'youth',\n",
              " 'fail',\n",
              " 'grade',\n",
              " 'society',\n",
              " 'militant']"
            ]
          },
          "metadata": {},
          "execution_count": 118
        }
      ]
    },
    {
      "cell_type": "code",
      "source": [
        "embeddings = model.encode(docs, convert_to_tensor=True, normalize_embeddings=True)\n",
        "print(embeddings)"
      ],
      "metadata": {
        "colab": {
          "base_uri": "https://localhost:8080/"
        },
        "id": "8IQNme4an57P",
        "outputId": "51597090-5362-4b3f-95e7-0abf28644f08"
      },
      "execution_count": null,
      "outputs": [
        {
          "output_type": "stream",
          "name": "stdout",
          "text": [
            "tensor([[ 0.0107,  0.0204,  0.0009,  ..., -0.0266, -0.0487,  0.0321],\n",
            "        [ 0.0377,  0.0274, -0.0214,  ...,  0.0112, -0.0486,  0.0401],\n",
            "        [ 0.0439,  0.0356, -0.0145,  ..., -0.0268, -0.0443,  0.0262],\n",
            "        ...,\n",
            "        [ 0.0336,  0.0233, -0.0024,  ..., -0.0112, -0.0248,  0.0390],\n",
            "        [ 0.0345,  0.0134, -0.0011,  ...,  0.0072, -0.0407,  0.0048],\n",
            "        [ 0.0409,  0.0210, -0.0048,  ..., -0.0319, -0.0278,  0.0549]],\n",
            "       device='cuda:0')\n"
          ]
        }
      ]
    },
    {
      "cell_type": "code",
      "source": [
        "num_clusters = 3\n",
        "\n",
        "# Perform K-means clustering with the chosen number of clusters\n",
        "km = KMeans(n_clusters=num_clusters, random_state=0)\n",
        "km.fit(embeddings.cpu().numpy())\n",
        "\n",
        "# Print the cluster labels\n",
        "print(km.labels_)"
      ],
      "metadata": {
        "colab": {
          "base_uri": "https://localhost:8080/"
        },
        "id": "0pU6K1t_vvSF",
        "outputId": "66a93804-e3e3-4047-dc90-31ab22381ed4"
      },
      "execution_count": null,
      "outputs": [
        {
          "output_type": "stream",
          "name": "stdout",
          "text": [
            "[1 1 1 1 1 1 1 2 2 2 1 1 2 0 1 2 1 2 1 1 1 1 1 1 2 2 1 1 0 1 2 2 1 1 1 2 1\n",
            " 1 1 1 2 2 1 1 1 1 1 1 1 1 0 1 1 1 1 1 0 0 1 1 1 0 1 0 1 1 1 1 0 1 1 0 1 1\n",
            " 0 1 0 1 1 1 1 0 1 2 1 1 1 0 1 1 1 1 0 0 0 0 2 1 0 0]\n"
          ]
        },
        {
          "output_type": "stream",
          "name": "stderr",
          "text": [
            "/usr/local/lib/python3.10/dist-packages/sklearn/cluster/_kmeans.py:870: FutureWarning: The default value of `n_init` will change from 10 to 'auto' in 1.4. Set the value of `n_init` explicitly to suppress the warning\n",
            "  warnings.warn(\n"
          ]
        }
      ]
    },
    {
      "cell_type": "code",
      "source": [
        "# prompt: Please create a dictionary where the unique value of the clusters is the key and the corresponding word in the doc is the value\n",
        "\n",
        "cluster_dict = {}\n",
        "for i, label in enumerate(km.labels_):\n",
        "  if label not in cluster_dict:\n",
        "    cluster_dict[label] = []\n",
        "  cluster_dict[label].append(docs[i])\n",
        "\n",
        "print(cluster_dict)\n"
      ],
      "metadata": {
        "colab": {
          "base_uri": "https://localhost:8080/"
        },
        "id": "EsGVJRgrwKMh",
        "outputId": "e2f7c7b4-f9c4-4ddc-c671-51dd4ffc7ef4"
      },
      "execution_count": null,
      "outputs": [
        {
          "output_type": "stream",
          "name": "stdout",
          "text": [
            "{1: ['ebit', 'aggregate', 'transaction', 'vwap', 'macd', 'bond', 'click', 'advt', 'analysis', 'oslobor', 'parison', 'na', 'employ', 'tsr', 'vi', 'glossary', 'versus', 'convergence', 'size', 'divergence', 'conversion', 'exponential', 'fix', 'criterion', 'headline', 'purchase', 'comment', 'length', 'annualize', 'bracket', 'acquisition', 'improvement', 'euro', 'equivalent', 'intangible', 'iron', 'mining', 'kill', 'district', 'institution', 'mine', 'graphite', 'block', 'tender', 'ton', 'port', 'mission', 'arrest', 'effort', 'investigation', 'concession', 'matter', 'fact', 'infrastructure', 'request', 'obtain', 'death', 'adopt', 'accuse', 'especially', 'secretary', 'resident', 'lkr', 'yesterday', 'pursue', 'grade'], 2: ['rating', 'undervalue', 'exceed', 'minus', 'downtrend', 'outperform', 'overvaluation', 'undervaluation', 'unfavorably', 'underperform', 'overbought', 'steep', 'gdp', 'lack', 'fail'], 0: ['performer', 'ceo', 'constitution', 'corruption', 'peace', 'governor', 'opposition', 'presidential', 'nation', 'military', 'fight', 'war', 'violence', 'constitutional', 'protest', 'victory', 'youth', 'society', 'militant']}\n"
          ]
        }
      ]
    },
    {
      "cell_type": "code",
      "source": [
        "', '.join([i for i in cluster_dict[2] if i in peace_ls])"
      ],
      "metadata": {
        "colab": {
          "base_uri": "https://localhost:8080/",
          "height": 36
        },
        "id": "gCsEd4-JsYPT",
        "outputId": "8ae89af5-db8d-439a-f32f-cdb54e97c9a5"
      },
      "execution_count": null,
      "outputs": [
        {
          "output_type": "execute_result",
          "data": {
            "text/plain": [
              "'rating, undervalue, exceed, minus, downtrend, outperform, overvaluation, undervaluation, unfavorably, underperform, overbought, steep, gdp'"
            ],
            "application/vnd.google.colaboratory.intrinsic+json": {
              "type": "string"
            }
          },
          "metadata": {},
          "execution_count": 122
        }
      ]
    },
    {
      "cell_type": "code",
      "source": [
        "', '.join([i for i in cluster_dict[2] if i in non_peace_ls])"
      ],
      "metadata": {
        "colab": {
          "base_uri": "https://localhost:8080/",
          "height": 36
        },
        "id": "0-CYNjeisZTo",
        "outputId": "02d7cec9-214f-4740-a645-2cb4b58d189f"
      },
      "execution_count": null,
      "outputs": [
        {
          "output_type": "execute_result",
          "data": {
            "text/plain": [
              "'lack, fail'"
            ],
            "application/vnd.google.colaboratory.intrinsic+json": {
              "type": "string"
            }
          },
          "metadata": {},
          "execution_count": 123
        }
      ]
    },
    {
      "cell_type": "code",
      "source": [
        "(len([i for i in cluster_dict[1] if i in peace_ls])/len(peace_ls))/(len([i for i in cluster_dict[1] if i in non_peace_ls])/len(non_peace_ls))"
      ],
      "metadata": {
        "colab": {
          "base_uri": "https://localhost:8080/"
        },
        "id": "IzekzhwLsaL7",
        "outputId": "ef39a33c-5864-49b6-94a7-6155cc5b9396"
      },
      "execution_count": null,
      "outputs": [
        {
          "output_type": "execute_result",
          "data": {
            "text/plain": [
              "1.129032258064516"
            ]
          },
          "metadata": {},
          "execution_count": 124
        }
      ]
    },
    {
      "cell_type": "code",
      "source": [
        "# prompt: The above code is ok. Please make the font size and dots smaller so they don;t overlap each other.\n",
        "\n",
        "import matplotlib.pyplot as plt\n",
        "from sklearn.decomposition import PCA\n",
        "# Reduce dimensionality to 2D using PCA\n",
        "pca = PCA(n_components=2)\n",
        "embeddings_2d = pca.fit_transform(embeddings.detach().cpu().numpy())\n",
        "\n",
        "# Create a scatter plot\n",
        "plt.figure(figsize=(12, 12))\n",
        "\n",
        "# Label the points with the corresponding words\n",
        "for i, word in enumerate(docs):\n",
        "  marker = classify_word(word, cluster_dict)\n",
        "  if word in non_peace_ls:\n",
        "    plt.text(embeddings_2d[i, 0], embeddings_2d[i, 1], word,c='r', fontsize=14)\n",
        "    plt.scatter(embeddings_2d[i, 0], embeddings_2d[i, 1], c='r', s=12,marker=marker)\n",
        "  else:\n",
        "    plt.text(embeddings_2d[i, 0], embeddings_2d[i, 1], word, c='g', fontsize=14)\n",
        "    plt.scatter(embeddings_2d[i, 0], embeddings_2d[i, 1], c='g', s=12,marker=marker)\n",
        "\n",
        "\n",
        "# Show the plot\n",
        "plt.show()\n"
      ],
      "metadata": {
        "colab": {
          "base_uri": "https://localhost:8080/",
          "height": 793
        },
        "id": "hsobPqnRn9Jw",
        "outputId": "cb987f90-794a-4e88-f672-28b88b9878d9"
      },
      "execution_count": null,
      "outputs": [
        {
          "output_type": "display_data",
          "data": {
            "text/plain": [
              "<Figure size 1200x1200 with 1 Axes>"
            ],
            "image/png": "[encoded data removed]"
          },
          "metadata": {}
        }
      ]
    },
    {
      "cell_type": "code",
      "source": [
        "docs"
      ],
      "metadata": {
        "colab": {
          "base_uri": "https://localhost:8080/"
        },
        "id": "7KuhcPDsMrlr",
        "outputId": "d4dda9c1-ff21-4598-d503-513e88c0ec3e"
      },
      "execution_count": null,
      "outputs": [
        {
          "output_type": "execute_result",
          "data": {
            "text/plain": [
              "['ebit',\n",
              " 'aggregate',\n",
              " 'transaction',\n",
              " 'vwap',\n",
              " 'macd',\n",
              " 'bond',\n",
              " 'click',\n",
              " 'rating',\n",
              " 'undervalue',\n",
              " 'exceed',\n",
              " 'advt',\n",
              " 'analysis',\n",
              " 'minus',\n",
              " 'performer',\n",
              " 'oslobor',\n",
              " 'downtrend',\n",
              " 'parison',\n",
              " 'outperform',\n",
              " 'na',\n",
              " 'employ',\n",
              " 'tsr',\n",
              " 'vi',\n",
              " 'glossary',\n",
              " 'versus',\n",
              " 'overvaluation',\n",
              " 'undervaluation',\n",
              " 'convergence',\n",
              " 'size',\n",
              " 'ceo',\n",
              " 'divergence',\n",
              " 'unfavorably',\n",
              " 'underperform',\n",
              " 'conversion',\n",
              " 'exponential',\n",
              " 'fix',\n",
              " 'overbought',\n",
              " 'criterion',\n",
              " 'headline',\n",
              " 'purchase',\n",
              " 'comment',\n",
              " 'steep',\n",
              " 'gdp',\n",
              " 'length',\n",
              " 'annualize',\n",
              " 'bracket',\n",
              " 'acquisition',\n",
              " 'improvement',\n",
              " 'euro',\n",
              " 'equivalent',\n",
              " 'intangible',\n",
              " 'constitution',\n",
              " 'iron',\n",
              " 'mining',\n",
              " 'kill',\n",
              " 'district',\n",
              " 'institution',\n",
              " 'corruption',\n",
              " 'peace',\n",
              " 'mine',\n",
              " 'graphite',\n",
              " 'block',\n",
              " 'governor',\n",
              " 'tender',\n",
              " 'opposition',\n",
              " 'ton',\n",
              " 'port',\n",
              " 'mission',\n",
              " 'arrest',\n",
              " 'presidential',\n",
              " 'effort',\n",
              " 'investigation',\n",
              " 'nation',\n",
              " 'concession',\n",
              " 'matter',\n",
              " 'military',\n",
              " 'fact',\n",
              " 'fight',\n",
              " 'infrastructure',\n",
              " 'request',\n",
              " 'obtain',\n",
              " 'death',\n",
              " 'war',\n",
              " 'adopt',\n",
              " 'lack',\n",
              " 'accuse',\n",
              " 'especially',\n",
              " 'secretary',\n",
              " 'violence',\n",
              " 'resident',\n",
              " 'lkr',\n",
              " 'yesterday',\n",
              " 'pursue',\n",
              " 'constitutional',\n",
              " 'protest',\n",
              " 'victory',\n",
              " 'youth',\n",
              " 'fail',\n",
              " 'grade',\n",
              " 'society',\n",
              " 'militant']"
            ]
          },
          "metadata": {},
          "execution_count": 18
        }
      ]
    },
    {
      "cell_type": "code",
      "source": [
        "peace_ls = ['ebit', 'aggregate', 'transaction', 'vwap', 'macd', 'bond', 'click', 'rating', 'undervalue', 'exceed', 'advt', 'analysis', 'minus', 'performer', 'oslobor', 'downtrend', 'parison', 'outperform', 'na', 'employ', 'tsr', 'vi', 'glossary', 'versus', 'overvaluation', 'undervaluation', 'convergence', 'size', 'ceo', 'divergence', 'unfavorably', 'underperform', 'conversion', 'exponential', 'fix', 'overbought', 'criterion', 'headline', 'purchase', 'comment', 'steep', 'gdp', 'length', 'annualize', 'bracket', 'acquisition', 'improvement', 'euro', 'equivalent', 'intangible']\n",
        "non_peace_ls = ['constitution', 'iron', 'mining', 'kill', 'district', 'institution', 'corruption', 'peace', 'mine', 'graphite', 'block', 'governor', 'tender', 'opposition', 'ton', 'port', 'mission', 'arrest', 'presidential', 'effort', 'investigation', 'nation', 'concession', 'matter', 'military', 'fact', 'fight', 'infrastructure', 'request', 'obtain', 'death', 'war', 'adopt', 'lack', 'accuse', 'especially', 'secretary', 'violence', 'resident', 'lkr', 'yesterday', 'pursue', 'constitutional', 'protest', 'victory', 'youth', 'fail', 'grade', 'society', 'militant']\n",
        "\n",
        "finer_semantic_groups = {\n",
        "    \"Financial Metrics and Ratios\": [\n",
        "        \"ebit\", \"vwap\", \"advt\", \"tsr\"\n",
        "    ],\n",
        "    \"Market Analysis\": [\n",
        "        \"aggregate\", \"analysis\", \"overvaluation\", \"undervaluation\", \"convergence\", \"divergence\", \"steep\", \"glossary\"\n",
        "    ],\n",
        "    \"Investment Strategies\": [\n",
        "        \"macd\", \"downtrend\", \"outperform\", \"underperform\", \"overbought\"\n",
        "    ],\n",
        "    \"Corporate Finance\": [\n",
        "        \"transaction\", \"bond\", \"rating\", \"purchase\", \"acquisition\", \"improvement\"\n",
        "    ],\n",
        "    \"Valuation\": [\n",
        "        \"undervalue\", \"exceed\", \"equivalent\", \"intangible\"\n",
        "    ],\n",
        "    \"Trading Indicators\": [\n",
        "        \"parison\", \"conversion\", \"exponential\"\n",
        "    ],\n",
        "    \"Economic Indicators\": [\n",
        "        \"gdp\", \"inflation\", \"unemployment\"\n",
        "    ],\n",
        "    \"Governance and Leadership\": [\n",
        "        \"ceo\", \"governor\", \"secretary\"\n",
        "    ],\n",
        "    \"Legal and Governance\": [\n",
        "        \"constitution\", \"legislation\", \"regulation\", \"compliance\"\n",
        "    ],\n",
        "    \"Political and Social Issues\": [\n",
        "        \"peace\", \"opposition\", \"arrest\", \"presidential\", \"effort\", \"nation\", \"military\", \"fight\", \"death\", \"war\",\n",
        "        \"violence\", \"investigation\", \"protest\", \"victory\", \"youth\", \"fail\", \"society\", \"militant\"\n",
        "    ],\n",
        "    \"Mining and Natural Resources\": [\n",
        "        \"iron\", \"mining\", \"mine\", \"graphite\", \"block\", \"ton\", \"port\"\n",
        "    ],\n",
        "    \"Corporate and Organizational\": [\n",
        "        \"institution\", \"corruption\", \"effort\", \"mission\"\n",
        "    ],\n",
        "    \"Legal Processes\": [\n",
        "        \"arrest\", \"investigation\", \"accuse\", \"trial\"\n",
        "    ],\n",
        "    \"Political Processes\": [\n",
        "        \"election\", \"presidential\", \"constitutional\", \"protest\"\n",
        "    ],\n",
        "    \"Miscellaneous Financial\": [\n",
        "        \"click\", \"rating\", \"headline\", \"comment\", \"grade\", \"lkr\"\n",
        "    ],\n",
        "    \"Miscellaneous\": [\n",
        "        \"employ\", \"resident\", \"yesterday\", \"pursue\", \"criterion\", \"size\", \"length\", \"annualize\", \"bracket\"\n",
        "    ]\n",
        "}\n",
        "\n"
      ],
      "metadata": {
        "id": "StRQp5ZQya3h"
      },
      "execution_count": null,
      "outputs": []
    },
    {
      "cell_type": "code",
      "source": [
        "for i in finer_semantic_groups.keys():\n",
        "  print(get_values(i,peace_ls,non_peace_ls,finer_semantic_groups[i]))"
      ],
      "metadata": {
        "colab": {
          "base_uri": "https://localhost:8080/"
        },
        "id": "aHotYUjQyf3D",
        "outputId": "67f2c03a-ec32-4209-b410-dceb5364dc1b"
      },
      "execution_count": null,
      "outputs": [
        {
          "output_type": "stream",
          "name": "stdout",
          "text": [
            "Financial Metrics and Ratios Ratio is 5.0 and winner is Peace\n",
            "Market Analysis Ratio is 9.0 and winner is Peace\n",
            "Investment Strategies Ratio is 6.0 and winner is Peace\n",
            "Corporate Finance Ratio is 7.000000000000001 and winner is Peace\n",
            "Valuation Ratio is 5.0 and winner is Peace\n",
            "Trading Indicators Ratio is 4.0 and winner is Peace\n",
            "Economic Indicators Ratio is 0.6666666666666667 and winner is Non Peace\n",
            "Governance and Leadership Ratio is 0.6666666666666667 and winner is Non Peace\n",
            "Legal and Governance Ratio is 0.19999999999999998 and winner is Non Peace\n",
            "Political and Social Issues Ratio is 0.05263157894736842 and winner is Non Peace\n",
            "Mining and Natural Resources Ratio is 0.125 and winner is Non Peace\n",
            "Corporate and Organizational Ratio is 0.19999999999999998 and winner is Non Peace\n",
            "Legal Processes Ratio is 0.19999999999999998 and winner is Non Peace\n",
            "Political Processes Ratio is 0.19999999999999998 and winner is Non Peace\n",
            "Miscellaneous Financial Ratio is 1.6666666666666667 and winner is Peace\n",
            "Miscellaneous Ratio is 1.7500000000000002 and winner is Peace\n"
          ]
        }
      ]
    },
    {
      "cell_type": "code",
      "source": [
        "for j in ['Political and Social Issues','Mining and Natural Resources','Governance and Leadership','Legal Processes']:\n",
        "  print(j)\n",
        "  print(', '.join([i for i in finer_semantic_groups[j] if i in peace_ls]))\n",
        "  print(', '.join([i for i in finer_semantic_groups[j] if i in non_peace_ls]))\n",
        "  if len([i for i in finer_semantic_groups[j] if i in peace_ls]) == 0:\n",
        "    print(\"All non peace\")\n",
        "  elif len([i for i in finer_semantic_groups[j] if i in non_peace_ls]) == 0:\n",
        "    print(\"All Peace\")\n",
        "  else:\n",
        "    print((len([i for i in finer_semantic_groups[j] if i in peace_ls])/len(peace_ls))/(len([i for i in finer_semantic_groups[j] if i in non_peace_ls])/len(non_peace_ls)))\n"
      ],
      "metadata": {
        "colab": {
          "base_uri": "https://localhost:8080/"
        },
        "id": "eJhnP-kv-iLi",
        "outputId": "bfb644c7-ee4a-45e9-8126-d46879676a65"
      },
      "execution_count": null,
      "outputs": [
        {
          "output_type": "stream",
          "name": "stdout",
          "text": [
            "Political and Social Issues\n",
            "\n",
            "peace, opposition, arrest, presidential, effort, nation, military, fight, death, war, violence, investigation, protest, victory, youth, fail, society, militant\n",
            "All non peace\n",
            "Mining and Natural Resources\n",
            "\n",
            "iron, mining, mine, graphite, block, ton, port\n",
            "All non peace\n",
            "Governance and Leadership\n",
            "ceo\n",
            "governor, secretary\n",
            "0.5\n",
            "Legal Processes\n",
            "\n",
            "arrest, investigation, accuse\n",
            "All non peace\n"
          ]
        }
      ]
    },
    {
      "cell_type": "code",
      "source": [
        "semantic_groups = {\n",
        "    \"Financial Terms\": [\n",
        "        \"ebit\", \"aggregate\", \"transaction\", \"vwap\", \"bond\", \"rating\", \"undervalue\", \"exceed\", \"advt\", \"analysis\",\n",
        "        \"performer\", \"oslobor\", \"parison\", \"outperform\", \"na\", \"employ\", \"tsr\", \"vi\", \"glossary\", \"versus\",\n",
        "        \"overvaluation\", \"undervaluation\", \"size\", \"ceo\", \"conversion\", \"exponential\", \"overbought\", \"criterion\",\n",
        "        \"purchase\", \"annualize\", \"bracket\", \"acquisition\", \"improvement\", \"euro\", \"equivalent\", \"intangible\",\n",
        "        \"constitution\", \"gdp\", \"fix\", \"headline\", \"comment\", \"iron\", \"mining\", \"block\", \"ton\", \"port\", \"investigation\",\n",
        "        \"concession\", \"infrastructure\", \"mission\", \"grade\", \"lkr\"\n",
        "    ],\n",
        "    \"Trading Indicators\": [\n",
        "        \"macd\", \"downtrend\", \"convergence\", \"divergence\", \"underperform\", \"steep\"\n",
        "    ],\n",
        "    \"Corporate and Employment\": [\n",
        "        \"click\", \"employ\", \"ceo\", \"institution\", \"employ\", \"governor\", \"secretary\", \"resident\"\n",
        "    ],\n",
        "    \"Market Conditions\": [\n",
        "        \"minus\", \"unfavorably\", \"overvaluation\", \"undervaluation\"\n",
        "    ],\n",
        "    \"Quantitative Metrics\": [\n",
        "        \"size\", \"length\", \"conversion\"\n",
        "    ],\n",
        "    \"Legal and Governance\": [\n",
        "        \"constitution\", \"corruption\", \"peace\", \"tender\", \"opposition\", \"arrest\", \"presidential\", \"effort\",\n",
        "        \"nation\", \"matter\", \"military\", \"fact\", \"fight\", \"request\", \"obtain\", \"death\", \"war\", \"adopt\", \"lack\",\n",
        "        \"accuse\", \"especially\", \"violence\", \"yesterday\", \"pursue\", \"constitutional\", \"protest\", \"victory\", \"youth\",\n",
        "        \"fail\", \"society\", \"militant\", \"investigation\", \"mission\"\n",
        "    ],\n",
        "    \"Miscellaneous\": [\n",
        "        \"kill\", \"district\", \"mine\", \"graphite\", \"fact\", \"obtain\", \"especially\", \"secretary\", \"resident\", \"yesterday\",\n",
        "        \"pursue\", \"youth\"\n",
        "    ]\n",
        "}\n"
      ],
      "metadata": {
        "id": "4yXqe_qvJpy-"
      },
      "execution_count": null,
      "outputs": []
    },
    {
      "cell_type": "code",
      "source": [
        "for i in semantic_groups.keys():\n",
        "  print(get_values(i,peace_ls,non_peace_ls,semantic_groups[i]))"
      ],
      "metadata": {
        "colab": {
          "base_uri": "https://localhost:8080/"
        },
        "id": "j53Dqs0DJ59f",
        "outputId": "68603e21-a8a6-4378-d007-0ee8331efb88"
      },
      "execution_count": null,
      "outputs": [
        {
          "output_type": "stream",
          "name": "stdout",
          "text": [
            "Financial Terms Ratio is 3.1538461538461537 and winner is Peace\n",
            "Trading Indicators Ratio is 7.000000000000001 and winner is Peace\n",
            "Corporate and Employment Ratio is 1.0 and winner is Peace\n",
            "Market Conditions Ratio is 5.0 and winner is Peace\n",
            "Quantitative Metrics Ratio is 4.0 and winner is Peace\n",
            "Legal and Governance Ratio is 0.029411764705882353 and winner is Non Peace\n",
            "Miscellaneous Ratio is 0.07692307692307693 and winner is Non Peace\n"
          ]
        }
      ]
    },
    {
      "cell_type": "code",
      "source": [
        "refined_semantic_groups = {\n",
        "    \"Finance and Markets\": [\n",
        "        \"ebit\", \"aggregate\", \"transaction\", \"vwap\", \"bond\", \"rating\", \"undervalue\", \"exceed\", \"advt\", \"analysis\",\n",
        "        \"performer\", \"oslobor\", \"parison\", \"outperform\", \"tsr\", \"vi\", \"glossary\", \"versus\", \"overvaluation\",\n",
        "        \"undervaluation\", \"conversion\", \"exponential\", \"overbought\", \"purchase\", \"annualize\", \"bracket\",\n",
        "        \"acquisition\", \"improvement\", \"euro\", \"equivalent\", \"intangible\", \"gdp\", \"fix\", \"headline\", \"comment\",\n",
        "        \"grade\", \"lkr\"\n",
        "    ],\n",
        "    \"Trading and Investment\": [\n",
        "        \"macd\", \"downtrend\", \"convergence\", \"divergence\", \"underperform\", \"steep\"\n",
        "    ],\n",
        "    \"Corporate Structure\": [\n",
        "        \"ceo\", \"institution\", \"corruption\", \"governor\", \"secretary\"\n",
        "    ],\n",
        "    \"Market Analysis\": [\n",
        "        \"minus\", \"unfavorably\", \"size\", \"length\"\n",
        "    ],\n",
        "    \"Legal and Political\": [\n",
        "        \"constitution\", \"peace\", \"tender\", \"opposition\", \"arrest\", \"presidential\", \"effort\", \"nation\", \"matter\",\n",
        "        \"military\", \"fact\", \"fight\", \"request\", \"obtain\", \"death\", \"war\", \"adopt\", \"lack\", \"accuse\", \"especially\",\n",
        "        \"violence\", \"investigation\", \"concession\", \"infrastructure\", \"mission\", \"constitutional\", \"protest\",\n",
        "        \"victory\", \"youth\", \"fail\", \"society\", \"militant\"\n",
        "    ],\n",
        "    \"Mining and Resources\": [\n",
        "        \"iron\", \"mining\", \"mine\", \"graphite\", \"block\", \"ton\", \"port\"\n",
        "    ],\n",
        "    \"Miscellaneous\": [\n",
        "        \"click\", \"employ\", \"resident\", \"yesterday\", \"pursue\", \"criterion\"\n",
        "    ]\n",
        "}\n"
      ],
      "metadata": {
        "id": "J-tlA4BDJv4i"
      },
      "execution_count": null,
      "outputs": []
    },
    {
      "cell_type": "code",
      "source": [
        "for i in refined_semantic_groups.keys():\n",
        "  print(get_values(i,peace_ls,non_peace_ls,refined_semantic_groups[i]))"
      ],
      "metadata": {
        "colab": {
          "base_uri": "https://localhost:8080/"
        },
        "id": "MMbO7mFsKFCM",
        "outputId": "82c26f41-b8a9-4e37-f244-2fbb1a9ce931"
      },
      "execution_count": null,
      "outputs": [
        {
          "output_type": "stream",
          "name": "stdout",
          "text": [
            "Finance and Markets Ratio is 12.0 and winner is Peace\n",
            "Trading and Investment Ratio is 7.000000000000001 and winner is Peace\n",
            "Corporate Structure Ratio is 0.39999999999999997 and winner is Non Peace\n",
            "Market Analysis Ratio is 5.0 and winner is Peace\n",
            "Legal and Political Ratio is 0.030303030303030304 and winner is Non Peace\n",
            "Mining and Resources Ratio is 0.125 and winner is Non Peace\n",
            "Miscellaneous Ratio is 1.0 and winner is Peace\n"
          ]
        }
      ]
    }
  ]
}